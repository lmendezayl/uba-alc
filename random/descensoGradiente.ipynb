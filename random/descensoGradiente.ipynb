{
 "cells": [
  {
   "cell_type": "markdown",
   "id": "77750db0-81ba-4a13-be8b-e93d785dc29b",
   "metadata": {},
   "source": [
    "## Implementacion de metodos de gradiente"
   ]
  },
  {
   "cell_type": "code",
   "execution_count": 1,
   "id": "00b35112-2a6d-441f-bd77-44cbc1574094",
   "metadata": {},
   "outputs": [],
   "source": [
    "import numpy as np\n",
    "import matplotlib.pyplot as plt"
   ]
  },
  {
   "cell_type": "markdown",
   "id": "fa9561d4-18b7-4c42-9074-ce52092dce4c",
   "metadata": {},
   "source": [
    "### Gradient Descent Pseudocode\n",
    "\n",
    "1. **Input**:\n",
    "   - Objective function: $f(x)$\n",
    "   - Initial point: $x_0$\n",
    "   - Learning rate (step size): $\\eta$\n",
    "   - Convergence tolerance: $\\epsilon$\n",
    "   - Maximum number of iterations: $\\text{max\\_iter}$\n",
    "\n",
    "2. **Initialize**:\n",
    "   - Set $k = 0$ (iteration counter)\n",
    "   - Set $x = x_0$ (initial guess)\n",
    "\n",
    "3. **Repeat until convergence**:\n",
    "   - Compute the gradient: $g_k = \\nabla f(x_k)$\n",
    "   - Check for convergence:\n",
    "     - If $\\|g_k\\| \\leq \\epsilon$, **stop** (converged)\n",
    "   - Update the solution:\n",
    "     $\n",
    "     x_{k+1} = x_k - \\eta \\, g_k\n",
    "     $\n",
    "   - Increment iteration counter: $k = k + 1$\n",
    "   - If $k \\geq \\text{max\\_iter}$, **stop** (maximum iterations reached)\n",
    "\n",
    "4. **Output**:\n",
    "   - Approximate solution: $x_k$\n",
    "   - Final function value: $f(x_k)$"
   ]
  },
  {
   "cell_type": "code",
   "execution_count": 2,
   "id": "a7519332-eb6d-4415-b0ce-8e37c4d77bb5",
   "metadata": {},
   "outputs": [],
   "source": [
    "def gradientDescent1D(coefs: list, x0: float, max_iter: int=100, tol: float=0.001, step: float=0.1) -> float:\n",
    "    k = 0 # iteration counter\n",
    "    x = x0\n",
    "    f = np.poly1d(coefs)\n",
    "    while(k < max_iter):\n",
    "        dfx = np.polyval(np.polyder(f), x)\n",
    "        if (abs(dfx) <= tol): \n",
    "            break\n",
    "        x = x - step*dfx\n",
    "        k = k + 1    \n",
    "    min_f = np.polyval(f, x)\n",
    "    return print(f\"minimum found at {min_f}\")"
   ]
  },
  {
   "cell_type": "code",
   "execution_count": 27,
   "id": "9e4c6281-776c-4e24-b855-4086bb193bf8",
   "metadata": {},
   "outputs": [],
   "source": [
    "def gradientDescentMat(A: np.ndarray, b: np.ndarray, L_RATE: float=0.1, EPS: float=0.0000001, MAX_ITER: int=10000) -> np.ndarray:\n",
    "    n = np.shape(A[0])\n",
    "    if np.shape(b) != n:\n",
    "        return \"Wrong dimensions\"\n",
    "    xk = np.zeros(n)\n",
    "    k = 0\n",
    "    while(k < MAX_ITER):\n",
    "        J = 0.5*(np.linalg.norm(A@xk - b, 2)**2)\n",
    "        dJ = A@xk - b\n",
    "        if (J < EPS):\n",
    "            break\n",
    "        xk = xk - L_RATE*dJ\n",
    "        k = k + 1\n",
    "    return xk"
   ]
  },
  {
   "cell_type": "code",
   "execution_count": 28,
   "id": "927c6d04-a9e5-4361-a8c5-caeee113d440",
   "metadata": {},
   "outputs": [
    {
     "name": "stdout",
     "output_type": "stream",
     "text": [
      "Error del metodo del gradiente con 1 iteraciones: 69.857%\n",
      "Error del metodo del gradiente con 10 iteraciones: 5.518%\n",
      "Error del metodo del gradiente con 100 iteraciones: 0.063%\n",
      "Error del metodo del gradiente con 1000 iteraciones: 0.063%\n",
      "Error del metodo del gradiente con 10000 iteraciones: 0.063%\n"
     ]
    }
   ],
   "source": [
    "A = np.array([[5,2],[2,4]])\n",
    "b = np.array([1,0])\n",
    "iteraciones = [1,10,100,1000,10000]\n",
    "for i in iteraciones:\n",
    "    x_it = gradientDescentMat(A, b, MAX_ITER=i)\n",
    "    x = np.linalg.solve(A,b)\n",
    "    err = np.linalg.norm(x - x_it)/np.linalg.norm(x) * 100\n",
    "    print(f'Error del metodo del gradiente con {i} iteraciones: {round(err,3)}%')"
   ]
  },
  {
   "cell_type": "code",
   "execution_count": null,
   "id": "2b8fb3f9-ae4a-4153-be11-b242ce8dfe72",
   "metadata": {},
   "outputs": [],
   "source": []
  }
 ],
 "metadata": {
  "kernelspec": {
   "display_name": "Python 3 (ipykernel)",
   "language": "python",
   "name": "python3"
  },
  "language_info": {
   "codemirror_mode": {
    "name": "ipython",
    "version": 3
   },
   "file_extension": ".py",
   "mimetype": "text/x-python",
   "name": "python",
   "nbconvert_exporter": "python",
   "pygments_lexer": "ipython3",
   "version": "3.13.1"
  }
 },
 "nbformat": 4,
 "nbformat_minor": 5
}
