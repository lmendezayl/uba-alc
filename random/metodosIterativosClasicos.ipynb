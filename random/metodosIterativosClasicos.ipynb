{
 "cells": [
  {
   "cell_type": "markdown",
   "id": "243afdfa-62c0-410d-9bc3-efc2b2d79828",
   "metadata": {},
   "source": [
    "# Metodos iterativos clasicos: Jacobi y Gauiss-Seidel\n",
    "Sea $A \\in \\mathbb{R}^{nxn}, b \\in \\mathbb{R}^n$ donde $A = L + D + U$, $L$ lower, $D$ diagonal, $U$ upper.\n",
    "Queremos resolver el sistema $Ax=b$ de forma iterativa.\n",
    "Sea M la matriz de iteracion, entonces:\n",
    "- Jacobi: $M_J = -D^{-1}(L+U)$\n",
    "- Gauss-Seidel: $M_{GS} = -(D + L)^{-1}U$\n",
    " \n",
    "Queremos resolver de forma iterativa el sistema $x^{(k+1)} = M x^{(k)} = M^k x_0$ donde $x_0$ vector inicial."
   ]
  },
  {
   "cell_type": "code",
   "execution_count": 1,
   "id": "68e461c4-1688-49cb-882b-c0872ac2ae10",
   "metadata": {},
   "outputs": [],
   "source": [
    "import numpy as np"
   ]
  },
  {
   "cell_type": "code",
   "execution_count": 37,
   "id": "c1348fa6-a605-44cc-9d68-eae294904b09",
   "metadata": {},
   "outputs": [],
   "source": [
    "def metodosClasicos(A: np.array, b: np.array, metodo: str, MAX_ITER: float = 1000, EPS: float = 1e-5) -> np.array:\n",
    "    n = A.shape[0]\n",
    "    L = np.tril(A)\n",
    "    D = np.diag(np.linalg.diagonal(A)), \n",
    "    U = np.triu(A)\n",
    "    x = np.zero(n)       \n",
    "    if metodo == \"jacobi\":\n",
    "        M = -np.linalg.inv(D) @ (L + U)\n",
    "        c = np.linalg.inv(D) @ b\n",
    "    if metodo == \"gseidel\":\n",
    "        M = -np.linalg.inv(D + L) @ U\n",
    "        c = np.linalg.inv(D + L) @ b\n",
    "    k: int = 0\n",
    "    while k < MAX_ITER:\n",
    "        xk = M @ x\n",
    "        err = np.linalg.norm(xk - x)\n",
    "        if err < EPS:\n",
    "            break\n",
    "        x = xk\n",
    "        k = k + 1\n",
    "    return xk, k, err"
   ]
  },
  {
   "cell_type": "code",
   "execution_count": 38,
   "id": "f435db38-ae6c-4586-8388-c9da98444d14",
   "metadata": {},
   "outputs": [
    {
     "name": "stdout",
     "output_type": "stream",
     "text": [
      "[0.46428571 0.85714286 0.96428571]\n",
      "Jacobi solution: [nan nan nan]\n",
      "Gauss-Seidel solution: [2.16647955e-06 7.41527933e-07 3.20753403e-07]\n"
     ]
    },
    {
     "name": "stderr",
     "output_type": "stream",
     "text": [
      "C:\\Users\\Lautaro Mendez\\AppData\\Local\\Temp\\ipykernel_12260\\2673287028.py:14: RuntimeWarning: overflow encountered in subtract\n",
      "  err = np.linalg.norm(xk - x)\n",
      "C:\\Users\\Lautaro Mendez\\AppData\\Local\\Temp\\ipykernel_12260\\2673287028.py:13: RuntimeWarning: overflow encountered in matmul\n",
      "  xk = M @ x\n",
      "C:\\Users\\Lautaro Mendez\\AppData\\Local\\Temp\\ipykernel_12260\\2673287028.py:13: RuntimeWarning: invalid value encountered in matmul\n",
      "  xk = M @ x\n"
     ]
    }
   ],
   "source": [
    "A = np.array([[4, -1, 0], [-1, 4, -1], [0, -1, 4]])\n",
    "b = np.array([1, 2, 3])\n",
    "print(np.linalg.solve(A, b))\n",
    "\n",
    "x_jacobi, cant_iter, error= metodosClasicos(A, b, \"jacobi\")\n",
    "print(\"Jacobi solution:\", x_jacobi)\n",
    "\n",
    "x_gseidel, cant_iter, error = metodosClasicos(A, b, \"gseidel\")\n",
    "print(\"Gauss-Seidel solution:\", x_gseidel)\n"
   ]
  },
  {
   "cell_type": "code",
   "execution_count": null,
   "id": "b152be45-fa2d-4998-a184-726a946654b3",
   "metadata": {},
   "outputs": [],
   "source": []
  }
 ],
 "metadata": {
  "kernelspec": {
   "display_name": "Python 3 (ipykernel)",
   "language": "python",
   "name": "python3"
  },
  "language_info": {
   "codemirror_mode": {
    "name": "ipython",
    "version": 3
   },
   "file_extension": ".py",
   "mimetype": "text/x-python",
   "name": "python",
   "nbconvert_exporter": "python",
   "pygments_lexer": "ipython3",
   "version": "3.13.1"
  }
 },
 "nbformat": 4,
 "nbformat_minor": 5
}
