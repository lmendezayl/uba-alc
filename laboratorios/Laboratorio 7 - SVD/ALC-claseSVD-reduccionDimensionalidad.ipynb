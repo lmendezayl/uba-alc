{
 "cells": [
  {
   "cell_type": "code",
   "execution_count": 5,
   "metadata": {},
   "outputs": [],
   "source": [
    "# Paquetes para trabajar con imágenes\n",
    "import matplotlib.pyplot as plt\n",
    "import numpy as np\n",
    "from skimage import color\n",
    "from skimage import io"
   ]
  },
  {
   "cell_type": "code",
   "execution_count": null,
   "metadata": {},
   "outputs": [],
   "source": []
  },
  {
   "cell_type": "markdown",
   "metadata": {},
   "source": [
    "## Compresión de una imagen geométrica\n",
    "\n",
    "1. Graficar la matriz A en blanco y negro, tomando 1 para blanco y 0 para negro."
   ]
  },
  {
   "cell_type": "code",
   "execution_count": 3,
   "metadata": {},
   "outputs": [
    {
     "name": "stdout",
     "output_type": "stream",
     "text": [
      "(25, 15)\n"
     ]
    }
   ],
   "source": [
    "A = np.array([\n",
    "    [1, 1, 1, 1, 1, 1, 1, 1, 1, 1, 1, 1, 1, 1, 1], \n",
    "    [1, 1, 1, 1, 1, 1, 1, 1, 1, 1, 1, 1, 1, 1, 1], \n",
    "    [1, 1, 1, 1, 1, 1, 1, 1, 1, 1, 1, 1, 1, 1, 1], \n",
    "    [1, 1, 1, 1, 1, 1, 1, 1, 1, 1, 1, 1, 1, 1, 1], \n",
    "    [1, 1, 1, 1, 1, 1, 1, 1, 1, 1, 1, 1, 1, 1, 1], \n",
    "    [1, 1, 0, 0, 0, 0, 0, 0, 0, 0, 0, 0, 0, 1, 1], \n",
    "    [1, 1, 0, 0, 0, 0, 0, 0, 0, 0, 0, 0, 0, 1, 1], \n",
    "    [1, 1, 0, 0, 0, 0, 0, 0, 0, 0, 0, 0, 0, 1, 1], \n",
    "    [1, 1, 0, 0, 0, 1, 1, 1, 1, 1, 0, 0, 0, 1, 1], \n",
    "    [1, 1, 0, 0, 0, 1, 1, 1, 1, 1, 0, 0, 0, 1, 1], \n",
    "    [1, 1, 0, 0, 0, 1, 1, 1, 1, 1, 0, 0, 0, 1, 1], \n",
    "    [1, 1, 0, 0, 0, 1, 1, 1, 1, 1, 0, 0, 0, 1, 1], \n",
    "    [1, 1, 0, 0, 0, 1, 1, 1, 1, 1, 0, 0, 0, 1, 1], \n",
    "    [1, 1, 0, 0, 0, 1, 1, 1, 1, 1, 0, 0, 0, 1, 1], \n",
    "    [1, 1, 0, 0, 0, 1, 1, 1, 1, 1, 0, 0, 0, 1, 1], \n",
    "    [1, 1, 0, 0, 0, 1, 1, 1, 1, 1, 0, 0, 0, 1, 1], \n",
    "    [1, 1, 0, 0, 0, 1, 1, 1, 1, 1, 0, 0, 0, 1, 1], \n",
    "    [1, 1, 0, 0, 0, 0, 0, 0, 0, 0, 0, 0, 0, 1, 1], \n",
    "    [1, 1, 0, 0, 0, 0, 0, 0, 0, 0, 0, 0, 0, 1, 1], \n",
    "    [1, 1, 0, 0, 0, 0, 0, 0, 0, 0, 0, 0, 0, 1, 1],\n",
    "    [1, 1, 1, 1, 1, 1, 1, 1, 1, 1, 1, 1, 1, 1, 1], \n",
    "    [1, 1, 1, 1, 1, 1, 1, 1, 1, 1, 1, 1, 1, 1, 1], \n",
    "    [1, 1, 1, 1, 1, 1, 1, 1, 1, 1, 1, 1, 1, 1, 1], \n",
    "    [1, 1, 1, 1, 1, 1, 1, 1, 1, 1, 1, 1, 1, 1, 1], \n",
    "    [1, 1, 1, 1, 1, 1, 1, 1, 1, 1, 1, 1, 1, 1, 1]\n",
    "])\n",
    "print(np.shape(A))"
   ]
  },
  {
   "cell_type": "code",
   "execution_count": 4,
   "metadata": {},
   "outputs": [
    {
     "data": {
      "text/plain": [
       "<matplotlib.image.AxesImage at 0x1f1a9decd70>"
      ]
     },
     "execution_count": 4,
     "metadata": {},
     "output_type": "execute_result"
    },
    {
     "data": {
      "image/png": "[encoded data removed]",
      "text/plain": [
       "<Figure size 640x480 with 1 Axes>"
      ]
     },
     "metadata": {},
     "output_type": "display_data"
    }
   ],
   "source": [
    "plt.imshow(A, cmap = \"gray\")"
   ]
  },
  {
   "cell_type": "markdown",
   "metadata": {},
   "source": [
    "2. ¿Cuántas columnas distintas hay en el dibujo? ¿Cuántas filas distintas hay en $A$?\n",
    "\n",
    "A partir de esa respuesta: \n",
    "- ¿Cuál es el máximo rango posible de $A$?\n",
    "- ¿Cuántos valores singulares no nulos puede tener como máximo $A$?\n",
    "\n",
    "\n",
    "3. ¿Cómo podríamos guardar en forma mas compacta esta matriz? (por ejemplo, sin guardar columnas repetidas)"
   ]
  },
  {
   "cell_type": "markdown",
   "metadata": {},
   "source": [
    "### Valores singulares\n",
    "Vamos a utilizar valores singulares para automatizar el proceso."
   ]
  },
  {
   "cell_type": "code",
   "execution_count": null,
   "metadata": {},
   "outputs": [],
   "source": [
    "# Calculamos la descomposición en valores singulares\n",
    "[U, S, Vh] = np.linalg.svd(A)\n",
    "print(\"Tamaño de U = \", np.shape(U))\n",
    "print(\"Tamaño de S = \", np.shape(S))\n",
    "print(\"Tamaño de Vh = \", np.shape(Vh))"
   ]
  },
  {
   "cell_type": "code",
   "execution_count": null,
   "metadata": {},
   "outputs": [],
   "source": [
    "# Graficamos los valores singulares\n",
    "plt.plot(S, '*')"
   ]
  },
  {
   "cell_type": "code",
   "execution_count": null,
   "metadata": {},
   "outputs": [],
   "source": [
    "# Observamos que hay 3 valores singulares no nulos. Lo verificamos.\n",
    "print(S)"
   ]
  },
  {
   "cell_type": "markdown",
   "metadata": {},
   "source": [
    "4. Para evitar los errores numéricos, definimos una función que elimine de $\\Sigma$ los valores singulares pequeños, dejando solo los primeros $k$ valores."
   ]
  },
  {
   "cell_type": "code",
   "execution_count": null,
   "metadata": {},
   "outputs": [],
   "source": [
    "# Función para eliminar de S los valores singulares a partir del k+1\n",
    "# Toma como parámetro también A para saber el tamaño de Sigma.\n",
    "def truncateSigma(A, S, k):\n",
    "    [nRow, nCol] = np.shape(A)\n",
    "    Sigma = np.zeros((nRow, nCol))\n",
    "    Sigma[:k, :k] = np.diag(S[:k])\n",
    "    return(Sigma)"
   ]
  },
  {
   "cell_type": "code",
   "execution_count": null,
   "metadata": {},
   "outputs": [],
   "source": [
    "# Aplicamos la función para construir la matriz Sigma con 3 valores singulares no nulos\n",
    "k = 3\n",
    "S_trunc = truncateSigma(A, S, 3)\n",
    "A_3 = U @ S_trunc @ Vh\n",
    "plt.imshow(A_3, cmap='gray')"
   ]
  },
  {
   "cell_type": "markdown",
   "metadata": {},
   "source": [
    "### Descomposición SVD reducida. \n",
    "\n",
    "Cuando $\\Sigma$ tiene solo $k$ valores no nulos en la diagonal, podemos quedarnos con las primeras $k$ columnas de $U$ y las primeras $k$ columnas de $V$ (es decir, las primeras $k$ filas de $V$).\n",
    "\n",
    "Obtenemos una descomposición que utiliza menos datos\n",
    "$$\n",
    "A = \\tilde U \\tilde \\Sigma \\tilde V^{*}\n",
    "$$\n",
    "con $\\tilde U \\in \\mathbb{K}^{m \\times k}$, $\\tilde \\Sigma \\in \\mathbb{K}^{k \\times k}$, $\\tilde V^{*} \\in \\mathbb{K}^{k \\times n}$.\n",
    "\n",
    "#### Ejercicio.\n",
    "Demostrarlo, recordando la propiedad para $A$ de $m \\times p$ y $B$ de $p \\times n$,\n",
    "$$A B = \\sum_{i = 1}^p A_i B_i,$$\n",
    "donde $A_i$ son las columnas de $A$ y $B_i$ son las filas de $B$.\n"
   ]
  },
  {
   "cell_type": "code",
   "execution_count": null,
   "metadata": {},
   "outputs": [],
   "source": [
    "# Podemos construir A utilizando solo las primeras 3 columnas de U y 3 columnas de V (3 filas de Vh)\n",
    "# y tomando solo la submatriz de 3x3 de S\n",
    "\n",
    "k = 3\n",
    "A_zip = U[:,:k] @ S_trunc[:k,:k] @ Vh[:k,]\n",
    "plt.imshow(A_zip, cmap='gray')"
   ]
  },
  {
   "cell_type": "markdown",
   "metadata": {},
   "source": [
    "Observación: este método funciona para cualquier matriz de rango 3, no solo para matrices con columnas repetidas.\n",
    "\n",
    "*Ejercicio:*\n",
    "¿Cuántos datos se requerían para guardar la matriz original? ¿Cuántos datos se requieren para guardar la descomposición SVD reducida?"
   ]
  },
  {
   "cell_type": "markdown",
   "metadata": {},
   "source": [
    "## Compresión de la imagen de un árbol\n",
    "\n",
    "Aplicando la misma estrategia, pero convirtiendo también a 0 los autovalores pequeños obtenemos una forma de comprimir imágenes, perdiendo un poco de calidad en este caso."
   ]
  },
  {
   "cell_type": "code",
   "execution_count": null,
   "metadata": {},
   "outputs": [],
   "source": [
    "# Leemos el archivo\n",
    "img = io.imread('tree2.jpg')\n",
    "print(img.shape)\n",
    "\n",
    "plt.imshow(img)"
   ]
  },
  {
   "cell_type": "code",
   "execution_count": null,
   "metadata": {},
   "outputs": [],
   "source": [
    "# Lo convertimos a tonos de gris para simplificar la aplicación\n",
    "imgGray = color.rgb2gray(img)\n",
    "print(imgGray.shape)\n",
    "\n",
    "plt.imshow(imgGray, cmap='gray')\n",
    "\n",
    "# Grabamos la imagen\n",
    "#plt.savefig('test2.png')"
   ]
  },
  {
   "cell_type": "code",
   "execution_count": null,
   "metadata": {},
   "outputs": [],
   "source": [
    "# Calculamos la descomposición SVD de A y graficamos los valores singulares\n",
    "A = imgGray\n",
    "[U, S, Vh] = np.linalg.svd(A)\n",
    "plt.plot(S, '*')"
   ]
  },
  {
   "cell_type": "code",
   "execution_count": null,
   "metadata": {},
   "outputs": [],
   "source": [
    "# Graficamos los logaritmos para ver mejor los saltos\n",
    "plt.plot(np.log(S), '*')\n",
    "plt.savefig('logS')"
   ]
  },
  {
   "cell_type": "code",
   "execution_count": null,
   "metadata": {},
   "outputs": [],
   "source": [
    "# Imprimimos los valores singulares a partir del 900\n",
    "for i in range(900,1082):\n",
    "    print(i, np.log(S[i]), S[i])\n"
   ]
  },
  {
   "cell_type": "markdown",
   "metadata": {},
   "source": [
    "Vemos que podemos eliminar todos los valores singular a partir de i = 987 sin perder mucha información.\n"
   ]
  },
  {
   "cell_type": "code",
   "execution_count": null,
   "metadata": {},
   "outputs": [],
   "source": [
    "S_trunc = truncateSigma(A, S, 987)       "
   ]
  },
  {
   "cell_type": "code",
   "execution_count": null,
   "metadata": {},
   "outputs": [],
   "source": [
    "# Reconstruimos la imagen utilizando la nueva S\n",
    "A_trunc = U @ S_trunc @ Vh\n",
    "plt.imshow(A_trunc, cmap='gray')"
   ]
  },
  {
   "cell_type": "code",
   "execution_count": null,
   "metadata": {},
   "outputs": [],
   "source": [
    "# Comparamos con la version original\n",
    "plt.imshow(imgGray, cmap='gray')\n",
    "np.linalg.norm(A_trunc-A)"
   ]
  },
  {
   "cell_type": "code",
   "execution_count": null,
   "metadata": {},
   "outputs": [],
   "source": [
    "# ¿Cómo guardamos los datos para no guardar información de más?\n",
    "\n",
    "# Podemos construir A utilizando solo las primeras k columnas de U y k columnas de V (k filas de Vh)\n",
    "# y tomando solo la submatriz de 987x987 de Sigma\n",
    "\n",
    "k = 987\n",
    "A_zip = U[:,:k] @ S_trunc[:k,:k] @ Vh[:k,]\n",
    "plt.imshow(A_zip, cmap='gray')"
   ]
  },
  {
   "cell_type": "code",
   "execution_count": null,
   "metadata": {},
   "outputs": [],
   "source": [
    "# A_zip y A_trunc son exactamente la misma matriz\n",
    "np.linalg.norm(A_zip-A_trunc)"
   ]
  },
  {
   "cell_type": "markdown",
   "metadata": {},
   "source": [
    "#### Ejercicio\n",
    "¿Cuántos datos se requerían para guardar la matriz original? ¿Cuántos datos se requieren para guardar la descomposición SVD reducida? \n",
    "\n",
    "¿Hemos realizado una buena compresión de la imagen?"
   ]
  },
  {
   "cell_type": "markdown",
   "metadata": {},
   "source": [
    "#### Seguimos reduciendo dimensiones"
   ]
  },
  {
   "cell_type": "code",
   "execution_count": null,
   "metadata": {},
   "outputs": [],
   "source": [
    "# Probamos eliminar más valores singulares\n",
    "k = 200\n",
    "A_zip = U[:,:k] @ S_trunc[:k,:k] @ Vh[:k,]\n",
    "plt.imshow(A_zip, cmap='gray')\n",
    "print(\"Distancia entre matrices: \", np.linalg.norm(A_zip-A))"
   ]
  },
  {
   "cell_type": "code",
   "execution_count": null,
   "metadata": {},
   "outputs": [],
   "source": [
    "# El color blanco se volvió gris...\n",
    "A_zip[0:5,0:5]"
   ]
  },
  {
   "cell_type": "code",
   "execution_count": null,
   "metadata": {},
   "outputs": [],
   "source": [
    "# Comprobamos si nos mantenemos en el rango [0, 1]\n",
    "print(\"min = \", np.min(A_zip))\n",
    "print(\"max = \", np.max(A_zip))"
   ]
  },
  {
   "cell_type": "markdown",
   "metadata": {},
   "source": [
    "La función imshow con `cmap = gray` toma el mínimo de los valores como negro y el máximo como blanco. Pero nosotros queremos que siga utilizando la misma escala de colores que antes. Forzamos a que todos los valores estén entre 0 y 1. Es decir tomamos todos los negativos como negro, y los mayores que 1 como blanco."
   ]
  },
  {
   "cell_type": "code",
   "execution_count": null,
   "metadata": {},
   "outputs": [],
   "source": [
    "# Convertimos los valores mayores que 1 a 1 y los menores que 0 a 0.\n",
    "A_zip = np.minimum(np.ones(A.shape), A_zip)\n",
    "A_zip = np.maximum(np.zeros(A.shape), A_zip)"
   ]
  },
  {
   "cell_type": "code",
   "execution_count": null,
   "metadata": {},
   "outputs": [],
   "source": [
    "# Graficamos\n",
    "plt.imshow(A_zip, cmap='gray')"
   ]
  },
  {
   "cell_type": "code",
   "execution_count": null,
   "metadata": {},
   "outputs": [],
   "source": [
    "# Calculamos la cantidad de datos en este caso. \n",
    "k = 200\n",
    "[nr, nc] = A.shape\n",
    "cant = k * nr + k * nc + k   # Datos en U, V y S respectivamente\n",
    "print(\"Cantidad de datos originales: \", nr * nc)\n",
    "print(\"Cantidad de datos en la imagen comprimida: \", cant)\n",
    "print(\"Porcentaje de compresión: \", cant / (nr*nc) * 100)"
   ]
  },
  {
   "cell_type": "code",
   "execution_count": null,
   "metadata": {},
   "outputs": [],
   "source": [
    "# Probamos eliminar más valores singulares\n",
    "k = 20\n",
    "A_zip = U[:,:k] @ S_trunc[:k,:k] @ Vh[:k,]\n",
    "A_zip = np.minimum(np.ones(A.shape), A_zip)\n",
    "A_zip = np.maximum(np.zeros(A.shape), A_zip)\n",
    "plt.imshow(A_zip, cmap='gray')"
   ]
  },
  {
   "cell_type": "code",
   "execution_count": null,
   "metadata": {},
   "outputs": [],
   "source": [
    "# Calculamos la cantidad de datos en este caso. \n",
    "k = 20\n",
    "[nr, nc] = A.shape\n",
    "cant = k * nr + k * nc + k   # Datos en U, V y S respectivamente\n",
    "print(\"Cantidad de datos originales: \", nr * nc)\n",
    "print(\"Cantidad de datos en la imagen comprimida: \", cant)\n",
    "print(\"Porcentaje de compresión: \", cant / (nr*nc) * 100)"
   ]
  },
  {
   "cell_type": "markdown",
   "metadata": {},
   "source": [
    "#### Ejercicio"
   ]
  },
  {
   "cell_type": "markdown",
   "metadata": {},
   "source": [
    "Repetir estos pasos para el ejemplo `quijote.jpg` de la práctica, y resolver los ejercicios 9 a 13."
   ]
  }
 ],
 "metadata": {
  "kernelspec": {
   "display_name": "Python 3 (ipykernel)",
   "language": "python",
   "name": "python3"
  },
  "language_info": {
   "codemirror_mode": {
    "name": "ipython",
    "version": 3
   },
   "file_extension": ".py",
   "mimetype": "text/x-python",
   "name": "python",
   "nbconvert_exporter": "python",
   "pygments_lexer": "ipython3",
   "version": "3.13.1"
  }
 },
 "nbformat": 4,
 "nbformat_minor": 4
}
