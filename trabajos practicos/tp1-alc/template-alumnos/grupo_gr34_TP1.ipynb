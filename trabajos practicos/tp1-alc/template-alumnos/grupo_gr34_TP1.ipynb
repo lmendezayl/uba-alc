{
 "cells": [
  {
   "cell_type": "markdown",
   "id": "5c0cbb93-2880-4750-975d-11cce9f6b12c",
   "metadata": {},
   "source": [
    "# Trabajo Práctico 1 - Matrices de Insumo Producto"
   ]
  },
  {
   "cell_type": "markdown",
   "id": "5ee77b82-45a7-4193-9dfd-f35de8c9eb15",
   "metadata": {},
   "source": [
    "## Integrantes"
   ]
  },
  {
   "cell_type": "markdown",
   "id": "346ea054-c51f-4669-956f-7b30db9830d3",
   "metadata": {},
   "source": [
    "* Martínez, Fausto\n",
    "* Mendez Ayala, Lautaro Evaristo\n",
    "* Oviedo, Santiago"
   ]
  },
  {
   "cell_type": "markdown",
   "id": "16036eab-e4ec-4ea4-bd38-8db822ec35c4",
   "metadata": {},
   "source": [
    "## Enunciado"
   ]
  },
  {
   "cell_type": "code",
   "execution_count": 1,
   "id": "6967406d-cdc7-42ec-a255-928e8cc35d58",
   "metadata": {},
   "outputs": [],
   "source": [
    "import numpy as np\n",
    "import pandas as pd"
   ]
  },
  {
   "cell_type": "markdown",
   "id": "11f7face-a325-4e30-b13e-0c3d84280c5e",
   "metadata": {},
   "source": [
    "### Consigna 1\n",
    "Analizar qué sucede con la solución del sistema $(I-A)p = d$ en cada uno de los siguiente casos:\n",
    "\n",
    "a) $(I-A)$ es inversible\n",
    "\n",
    "b) $(I-A)$ es inversible y $d=0$\n",
    "\n",
    "c) $(I-A)$ no es inversible\n",
    "\n",
    "d) $(I-A)$ no es inversible y $d=0$"
   ]
  },
  {
   "cell_type": "markdown",
   "id": "e69c407d-9132-421c-8d02-508da3bb3ae6",
   "metadata": {},
   "source": [
    "<h4>Solución: </h4>"
   ]
  },
  {
   "cell_type": "markdown",
   "id": "9a12b10a-ea7e-44df-8b1b-68e7e248e24e",
   "metadata": {},
   "source": [
    "(a) Si $(I-A)$ es inversible, existe una única solución al sistema y esta es $p = (I-A)^{-1} d$\n",
    "\n",
    "(b) Si $(I-A)$ es inversible, y aparte $d=0$, no solo existe una única solución, si no que esta es $p = (I-A)^{-1} d = 0$\n",
    "\n",
    "(c) Si $(I-A)$ no es inversible, tenemos dos casos:\n",
    "* Si $d \\notin \\text{Im}(I-A)$:\n",
    "  El sistema no tiene solución, pues en tal caso, por definición, no encontraremos ningún $p$ tal que $(I-A)p=d$\n",
    "* Si $d \\in \\text{Im}(I-A)$:\n",
    "  El sistema tiene infinitas soluciones, pues como $d \\in \\text{Im}(I-A)$, existe algún $p_0$ tal que $(I-A)p_0 = d$, y por tanto, como $(I-A)$ es singular (lo que implica que $\\ker(I-A) \\neq \\{0\\}$), tenemos que la solución del sistema es\n",
    "\n",
    "  $S = \\{p_0 + k : k \\in \\ker(I-A)\\}$\n",
    "\n",
    "  que es infinito pues $\\ker(I-A)$ lo es.\n",
    "\n",
    "(d) Si $(I-A)$ no es inversible, y aparte $d=0$, resulta que como las soluciones al sistema son lisa y llanamente $\\ker(I-A)$, con $(I-A)$ singular, por lo que tiene infinitas soluciones. "
   ]
  },
  {
   "cell_type": "markdown",
   "id": "6ea60699-4c07-40fb-8f71-ec4cacf32708",
   "metadata": {},
   "source": [
    "### Consigna 2\n",
    "\n",
    "Implementar el cálculo de la inversa de la matriz $(I-A)$ aplicando LU. Para ello completar el código de la función $\\texttt{calcularLU}$ que se encuentra en el archivo $\\texttt{funciones.py}$ del template del TP. Esta función debe devolver las matrices $L$ y $U$. Luego, completar el código de la otra función $\\texttt{inversaLU}(L,U)$, que devuelve la inversa final a través de las matrices $L$ y $U$ devueltas por la anterior función. Para resolver sistemas, únicamente podrá utilizarse la función $\\texttt{scipy.linalg.solve\\_triangular}$ de la biblioteca $\\texttt{scipy.linalg}$ que resuelve sistemas triangulares."
   ]
  },
  {
   "cell_type": "code",
   "execution_count": 2,
   "id": "d539c8c4-fc63-4c15-aa7c-edec96b6c1cd",
   "metadata": {},
   "outputs": [],
   "source": [
    "import funciones as f"
   ]
  },
  {
   "cell_type": "markdown",
   "id": "92898860-d6eb-4d0a-b363-a36900d123e5",
   "metadata": {},
   "source": [
    "---"
   ]
  },
  {
   "cell_type": "markdown",
   "id": "ad09a566-b617-4fdd-b0a5-b6f7ad8fd2d8",
   "metadata": {},
   "source": [
    "### Consigna 3\n",
    "\n",
    "Resolver el sistema $(I-A) p = d$ utilizando $\\texttt{inversaLU}$ para los siguientes valores de $A$ y de $d$:\n",
    "\n",
    "$A =\\begin{pmatrix}\n",
    "0.3 & 0.0 & 0.1\\\\\n",
    "0.05 & 1.0 & 0.2\\\\\n",
    "0.1 & 0.15 & 0.1\n",
    "\\end{pmatrix}\n",
    "$, $d = \\begin{pmatrix}\n",
    "100\\\\\n",
    "100\\\\\n",
    "300 \n",
    "\\end{pmatrix}$\n",
    "\n",
    "respondiendo lo siguiente:\n",
    "* ¿Hay una justificación económica de los valores encontrados para $p$?\n",
    "* ¿Cuál es la característica de la matriz que lleva a esta solución?"
   ]
  },
  {
   "cell_type": "code",
   "execution_count": 3,
   "id": "2392ce89-7aa5-43a8-b2b7-76258d0b6206",
   "metadata": {},
   "outputs": [],
   "source": [
    "A = np.asarray([[0.3,0,0.1],[0.05,1,0.2],[0.1,0.15,0.1]])\n",
    "d = np.array([100,100,300])"
   ]
  },
  {
   "cell_type": "code",
   "execution_count": 4,
   "id": "aeed3afb-86ae-495e-ba62-3c208dac79a7",
   "metadata": {},
   "outputs": [],
   "source": [
    "B = np.eye(3) - A\n",
    "L, U, P = f.calcularLU(B)"
   ]
  },
  {
   "cell_type": "code",
   "execution_count": 5,
   "id": "dc407813-8bf5-47ce-9e12-9151db152ccf",
   "metadata": {},
   "outputs": [],
   "source": [
    "assert np.allclose(P@B,L@U)"
   ]
  },
  {
   "cell_type": "markdown",
   "id": "adeae994-f259-46b9-9cb5-6fa11049af3b",
   "metadata": {},
   "source": [
    "Observemos que si teníamos el sistema\n",
    "\n",
    "* $(I-A)p = d$\n",
    "\n",
    "al permutar terminamos con \n",
    "\n",
    "* $P(I-A)p = Pd$\n",
    "\n",
    "y entonces utilizando que $P(I-A)=LU$, tenemos\n",
    "\n",
    "* $LUp = Pd$\n",
    "\n",
    "y por consiguiente:\n",
    "\n",
    "$\\boxed{p=(LU)^{-1} P d}$"
   ]
  },
  {
   "cell_type": "code",
   "execution_count": 6,
   "id": "f6ea75fb-f28a-4743-8bf6-150a57c4c845",
   "metadata": {},
   "outputs": [
    {
     "name": "stdout",
     "output_type": "stream",
     "text": [
      "[   68.96551724 -5149.42528736  -517.24137931]\n"
     ]
    }
   ],
   "source": [
    "p = f.inversaLU(L,U) @ P @ d\n",
    "print(p)"
   ]
  },
  {
   "cell_type": "code",
   "execution_count": 7,
   "id": "12b79aa7-3eeb-495f-ac9e-54e8a5e0b2dc",
   "metadata": {},
   "outputs": [],
   "source": [
    "assert np.allclose(B@p,d)"
   ]
  },
  {
   "cell_type": "code",
   "execution_count": 8,
   "id": "dc126cfe-d5f9-410c-8c61-0ad4f6bc0c63",
   "metadata": {},
   "outputs": [],
   "source": [
    "# Aprovechamos y nos creamos una función para hacer este mismo procedimiento\n",
    "def resolver_sistema_con_LU(A,b):\n",
    "    L, U, P = f.calcularLU(A)\n",
    "    x = f.inversaLU(L,U) @ P @ b\n",
    "    return x"
   ]
  },
  {
   "cell_type": "markdown",
   "id": "db6b35a3-0c47-4f4c-bdf9-d182d5578589",
   "metadata": {},
   "source": [
    "Entonces llegamos a que $p \\approx \\begin{pmatrix}\n",
    "68.97\\\\\n",
    "-5149.43\\\\\n",
    "-517.24 \n",
    "\\end{pmatrix}$"
   ]
  },
  {
   "cell_type": "markdown",
   "id": "fea3a9df-64c9-4198-8bb8-d7b9e8db9a22",
   "metadata": {},
   "source": [
    "La matriz $A$ nos dice que lo que necesitamos para producir una unidad del producto 2, es una unidad entera del producto 2, sumada a una proporción del producto 1 y del producto 3, lo cual consideramos que es bastante inconsistente, y es lo que creemos que justifica el valor tan negativo que nos da $p$ en su segunda coordenada."
   ]
  },
  {
   "cell_type": "raw",
   "id": "cbb48aa3-9751-4541-8236-01e78885c2b6",
   "metadata": {},
   "source": [
    "Pensar como agregar: Queremos decir como que p no tendría que dar negativo en teoría."
   ]
  },
  {
   "cell_type": "markdown",
   "id": "b6527567-ea14-4fb0-8cbb-3faa67fee8c1",
   "metadata": {},
   "source": [
    "---"
   ]
  },
  {
   "cell_type": "markdown",
   "id": "a965d0c6-86ae-4045-98ab-9638221a0acb",
   "metadata": {},
   "source": [
    "### Consigna 4\n",
    "\n",
    "Analizar analíticamente qué sucede con la producción total cuando a partir de una demanda externa $d$, la demanda externa para el producto 3 cambia en un $\\Delta d$. La demanda externa se convierte en\n",
    "\n",
    "$d' = d + \\begin{pmatrix}0 \\\\ 0 \\\\ 1\\end{pmatrix}$\n",
    "\n",
    "Obtener la expresión del vector $\\Delta p$ correspondiente a este ejemplo."
   ]
  },
  {
   "cell_type": "markdown",
   "id": "b03c9bad-e372-4701-ab4f-43d63fb793c3",
   "metadata": {},
   "source": [
    "Al cambiar la demanda poniendo un shock $\\Delta d$, habra un cambio en la producción dado por $\\Delta p$. Esto se puede expresar matemáticamente como:\n",
    "\n",
    "$(I-A)(p + \\Delta p) = d + \\Delta d$\n",
    "\n",
    "$(I-A)p + (I-A)\\Delta p = d + \\Delta d$\n",
    "\n",
    "Ahora, usando que ya sabemos que $(I-A)p = d$, podemos simplificar estas expresiones de ambos lados y resulta:\n",
    "\n",
    "$(I-A)\\Delta p = \\Delta d$, con lo cual, si $(I-A)$ es inversible,\n",
    "\n",
    "$\\Delta p = (I-A)^{-1}\\Delta d$\n",
    "\n",
    "Llamando a la matriz de Leontief $L = (I-A)^{-1}$ y usando la expresion del $\\Delta d$ para este ejemplo, resulta:\n",
    "\n",
    "$\\boxed{\\Delta p = L \\begin{pmatrix}0 \\\\ 0 \\\\ 1\\end{pmatrix}}$"
   ]
  },
  {
   "cell_type": "markdown",
   "id": "5a1ea113-75ed-4c56-9154-a08e0f8e9ac4",
   "metadata": {},
   "source": [
    "<h3>Coeficientes técnicos</h3>"
   ]
  },
  {
   "cell_type": "markdown",
   "id": "653cbf27-a781-413c-be92-811382d5a686",
   "metadata": {},
   "source": [
    "Las matrices $A$ con las que estuvimos trabajando tienen la característica de que son coeficientes técnicos que muestran la relación del flujo de los insumos y los productos. En la práctica, los valores de producción, insumos, y los flujos relacionados, compras y ventas pensados en un período de tiempo (por ejemplo, un año), están dados en unidades monetarias. Por ejemplo, un Sector 4 que produce un total de producto equivalente a $\\$ 15.000$, emplea $\\$300$ de bienes del Sector 1: $z_{14} =300$ y $p_4 = 15.000$. En este caso, $a_{14}=\\frac{z_{14}}{p_4} = \\frac{300}{15.000} = 0.02$. Estos coeficientes técnicos se consideran fijos en el sentido de ser una medida de interrelación entre las salidas del sector y las entradas.\n",
    "\n",
    "De forma matricial, teniendo $n$ sectores, podemos definir $P=\\begin{pmatrix} p_1 & \\cdots & 0 \\\\ \\vdots & \\ddots & \\vdots \\\\ 0 & \\cdots & p_n\\end{pmatrix}$.\n",
    "\n",
    "Luego, la matriz $A=ZP^{-1}$."
   ]
  },
  {
   "cell_type": "markdown",
   "id": "19403a3c-422b-4bdb-85b3-058b90560067",
   "metadata": {},
   "source": [
    "---"
   ]
  },
  {
   "cell_type": "markdown",
   "id": "2969eca9-0550-42fc-a7d2-2535e16cbc69",
   "metadata": {},
   "source": [
    "### Consigna 5\n",
    "\n",
    "Encontrar los coeficientes técnicos $A$ y la matriz de Leontief para la siguiente economía:\n",
    "\n",
    "|  | Sector 1 | Sector 2 | Sector 3 | Total producido|\n",
    "|-------------|------|------|-----|------:|\n",
    "| Sector 1    | 350  | 0    | 0   | 1000 |\n",
    "| Sector 2    | 50   | 250  | 150 | 500  |\n",
    "| Sector 3    | 200  | 150  | 550 | 1000 |"
   ]
  },
  {
   "cell_type": "code",
   "execution_count": 9,
   "id": "5c42c3b2-ded2-474c-856d-947cf794621e",
   "metadata": {},
   "outputs": [],
   "source": [
    "Z = [[350,0,0],[50,250,150],[200,150,550]]\n",
    "P = np.diag([1000,500,1000])"
   ]
  },
  {
   "cell_type": "code",
   "execution_count": 10,
   "id": "f51d92b2-b0b6-4268-a975-26b83163a7d5",
   "metadata": {},
   "outputs": [],
   "source": [
    "A = Z @ np.linalg.inv(P)"
   ]
  },
  {
   "cell_type": "code",
   "execution_count": 11,
   "id": "9c53de91-7929-4db7-9ed8-e6005fccb266",
   "metadata": {},
   "outputs": [
    {
     "name": "stdout",
     "output_type": "stream",
     "text": [
      "[[0.35 0.   0.  ]\n",
      " [0.05 0.5  0.15]\n",
      " [0.2  0.3  0.55]]\n"
     ]
    }
   ],
   "source": [
    "print(A)"
   ]
  },
  {
   "cell_type": "code",
   "execution_count": 12,
   "id": "c9623d49-5494-4f63-8b2b-e38e44be3f26",
   "metadata": {},
   "outputs": [
    {
     "name": "stdout",
     "output_type": "stream",
     "text": [
      "[[1.53846154 0.         0.        ]\n",
      " [0.44871795 2.5        0.83333333]\n",
      " [0.98290598 1.66666667 2.77777778]]\n"
     ]
    }
   ],
   "source": [
    "Leontief = np.linalg.inv(np.eye(3) - A)\n",
    "print(Leontief)"
   ]
  },
  {
   "cell_type": "markdown",
   "id": "6ddbd36b-7424-4cd7-b8ae-40471590c10c",
   "metadata": {},
   "source": [
    "La matriz de coeficientes técnicos es $A = \\begin{pmatrix}\n",
    "0.35 & 0.0 & 0.0\\\\\n",
    "0.05 & 0.5 & 0.15\\\\\n",
    "0.2 & 0.3 & 0.55\n",
    "\\end{pmatrix}$, y la de Leontief es $L\\approx \\begin{pmatrix}\n",
    "1.54 & 0.00 & 0.00\\\\\n",
    "0.45 & 2.5 & 0.83\\\\\n",
    "0.98 & 1.67 & 2.78\n",
    "\\end{pmatrix}$ "
   ]
  },
  {
   "cell_type": "markdown",
   "id": "a16c9e05-45c7-4e3b-af61-32668acde0b5",
   "metadata": {},
   "source": [
    "---"
   ]
  },
  {
   "cell_type": "markdown",
   "id": "6cbc31fc-f6a2-4b24-9af9-5986231dcb64",
   "metadata": {},
   "source": [
    "<h3>Matrices regionales</h3>"
   ]
  },
  {
   "cell_type": "markdown",
   "id": "a32ec14d-6d6f-4893-a383-65624df7e165",
   "metadata": {},
   "source": [
    "Si bien el modelo de Leontief trabaja a nivel nacional, la particularidad de disgregar las economías en regiones permite estudiar las distintas particularidades de una economía en su conjunto.\n",
    "\n",
    "Desde un punto de vista formal, el cambio al análisis regional consiste en identificar aquellas matrices de intercambio de flujos de capital entre sectores que establecen relaciones inter-regional e intra-regional."
   ]
  },
  {
   "cell_type": "markdown",
   "id": "ccd491fe-a703-4c78-8c2d-26421e555f24",
   "metadata": {},
   "source": [
    "En las variables que trabajamos se utiliza un superíndice indicando la región a la que refiere la variable. Por ejemplo el flujo monetario $z_{ij}^{rr}$ denota los montos del sector $i$ de la región $r$ hacia el sector $j$ en la región $r$. De la misma manera, se puede derivar el siguiente coeficiente técnico:\n",
    "\n",
    "$a_{ij}^{rr} = \\frac{z_{ij}^{rr}}{p_j^r}$ (eq. 3)\n",
    "\n",
    "y sea $Z^{rr} \\in \\mathbb{R}^{n\\times n}$ y $P^r \\in \\mathbb{R}^{n\\times n}$ matriz diagonal que puede entonces calcular:\n",
    "\n",
    "$A^{rr} = Z^{rr}(P^r)^{-1}$"
   ]
  },
  {
   "cell_type": "markdown",
   "id": "9c0723a8-4d6d-4090-b3d9-3f652fdffc4f",
   "metadata": {},
   "source": [
    "El cálculo del total producto en la región $r$ se obtiene nuevamente por la matriz de Leontief:\n",
    "\n",
    "$p^r = (I-A^rr)^{-1} d^r$"
   ]
  },
  {
   "cell_type": "markdown",
   "id": "d1143fab-4ab5-48b4-ab64-ecfa34107a48",
   "metadata": {},
   "source": [
    "Cuando integramos una segunda región $s$ en la economía, la matriz de flujo de capitales $Z$ total se puede escribir como\n",
    "\n",
    "$Z = \\begin{pmatrix}Z^{rr} & Z^{rs} \\\\ Z^{sr} & Z^{ss} \\end{pmatrix}$\n",
    "\n",
    "donde tanto $Z^{rr}$ y $Z^{ss}$ son matrices cuadradas, pero $Z^{rs}$ y $Z^{sr}$ no lo precisan."
   ]
  },
  {
   "cell_type": "markdown",
   "id": "b14bdc83-09b4-4bba-89ff-a872f1ab9e4a",
   "metadata": {},
   "source": [
    "Cuando calculamos los coeficientes técnicos de las matrices interregionales, ya $a^{rr}$ estaba calculado en eq. 3, obtenemos:\n",
    "\n",
    "$a_{ij}^{ss} = \\frac{z_{ij}^{ss}}{p_j^s}$\n",
    "\n",
    "$a_{ij}^{rs} = \\frac{z_{ij}^{rs}}{p_j^s}$\n",
    "\n",
    "$a_{ij}^{sr} = \\frac{z_{ij}^{sr}}{p_j^r}$"
   ]
  },
  {
   "cell_type": "markdown",
   "id": "02e16f93-71e5-4871-9e98-eed8584e8610",
   "metadata": {},
   "source": [
    "Volviendo a la ecuación del principio, podemos reescribir el modelo de Leontief para dos regiones:\n",
    "\n",
    "$\\left(\\begin{pmatrix}I_{n\\times n} & 0_{n\\times m} \\\\ 0_{m\\times n} & I_{m\\times m} \\end{pmatrix} - \\begin{pmatrix}A^{rr} & A^{rs} \\\\ A^{sr} & A^{ss} \\end{pmatrix}\\right) \\begin{pmatrix} p^r \\\\ p^s \\end{pmatrix} = \\begin{pmatrix} d^r \\\\ d^s \\end{pmatrix}$ (eq. 4)\n",
    "\n",
    "donde suponemos que $A^{rr} \\in \\mathbb{R}^{n \\times n}$, $A^{ss} \\in \\mathbb{R}^{m \\times m}$, $A^{sr} \\in \\mathbb{R}^{m \\times n}$, $A^{rs} \\in \\mathbb{R}^{n \\times m}$. En la práctica se busca establecer la producción adicional necesaria de los sectores para cubrir una variación en la demanda $d$. Supongamos que estamos interesados en establecer sobre la región $r$ la variación $\\Delta p^r$ de producción, dada por un $\\Delta d^r$, como vimos en la Consigna 4, tenemos el modelo de región simple como\n",
    "\n",
    "$\\Delta p^r = (I-A^{rr})^{-1} \\Delta d^r$ (eq. 5)"
   ]
  },
  {
   "cell_type": "markdown",
   "id": "b332b6f2-889a-4194-8ce6-8afe509aa256",
   "metadata": {},
   "source": [
    "---"
   ]
  },
  {
   "cell_type": "markdown",
   "id": "f56c165d-e200-45ce-9190-73b236029d4a",
   "metadata": {},
   "source": [
    "### Consigna 6\n",
    "A partir de la fórmula 4, deducir cómo se calcula la variación de la producción en la región $r$ para cubrir una variación de la demanda considerando las relaciones interregionales. Fijando por simplicidad $\\Delta d^s = 0$, deducir la siguiente fórmula:\n",
    "\n",
    "$\\Delta p^r = (I-A^{rr}-A^{rs}(I-A^{ss})^{-1}A^{sr})^{-1} \\Delta d^r$ (eq. 6)"
   ]
  },
  {
   "cell_type": "markdown",
   "id": "e2f95aac-9241-410c-9144-9e934d0028cd",
   "metadata": {},
   "source": [
    "Dado el sistema\n",
    "\n",
    "$\\begin{pmatrix}I_{n\\times n}- A^{rr} & -A^{rs} \\\\ -A^{sr} & I_{m\\times m}-A^{ss} \\end{pmatrix} \\begin{pmatrix} p^r \\\\ p^s \\end{pmatrix} = \\begin{pmatrix} d^r \\\\ d^s \\end{pmatrix}$\n",
    "\n",
    "Y una variación de la demanda dada por $\\begin{pmatrix} \\Delta d^r \\\\ 0 \\end{pmatrix}$, tenemos que la variación de la producción estará dada por $\\begin{pmatrix} \\Delta p^r \\\\ \\Delta p^s \\end{pmatrix}$, luego:\n",
    "\n",
    "$\\begin{pmatrix}I_{n\\times n}- A^{rr} & -A^{rs} \\\\ -A^{sr} & I_{m\\times m}-A^{ss} \\end{pmatrix} \\left( \\begin{pmatrix} p^r \\\\ p^s \\end{pmatrix} + \\begin{pmatrix} \\Delta p^r \\\\ \\Delta p^s \\end{pmatrix}  \\right) = \\begin{pmatrix} d^r \\\\ d^s \\end{pmatrix} + \\begin{pmatrix} \\Delta d^r \\\\ 0 \\end{pmatrix}\\,. $\n",
    "\n",
    "De la misma manera que en el ejercicio 4, como vale que $\\begin{pmatrix}I_{n\\times n}- A^{rr} & -A^{rs} \\\\ -A^{sr} & I_{m\\times m}-A^{ss} \\end{pmatrix} \\begin{pmatrix} p^r \\\\ p^s \\end{pmatrix} = \\begin{pmatrix} d^r \\\\ d^s \\end{pmatrix}$, podemos simplificar esos términos, y tenemos que\n",
    "\n",
    "$\\begin{pmatrix}I_{n\\times n}- A^{rr} & -A^{rs} \\\\ -A^{sr} & I_{m\\times m}-A^{ss} \\end{pmatrix} \\begin{pmatrix} \\Delta p^r \\\\ \\Delta p^s \\end{pmatrix} = \\begin{pmatrix} \\Delta d^r \\\\ 0 \\end{pmatrix}$\n",
    "\n",
    "Efectuando la multiplicación de matrices en bloque, podemos deducir las siguiente ecuaciones:\n",
    "\n",
    "\n",
    "$\\begin{align} \n",
    "(I_{n\\times n}- A^{rr}) \\Delta p^r - A^{rs}\\Delta p^s = \\Delta d^r\\\\ \n",
    "-A^{sr} \\Delta p^r + (I_{m\\times m}-A^{ss}) \\Delta p^s = 0\\,.\n",
    "\\end{align}$\n",
    "\n",
    "De la segunda ecuación, vemos que, si $(I_{m\\times m}-A^{ss})$ es inversible, $\\Delta p^s = (I_{m\\times m}-A^{ss})^{-1}A^{sr} \\Delta p^r$. Reemplazando esto en la primera ecuación, obtenemos\n",
    "\n",
    "$(I_{n\\times n}- A^{rr}) \\Delta p^r - A^{rs}(I_{m\\times m}-A^{ss})^{-1}A^{sr} \\Delta p^r = \\Delta d^r$\n",
    "\n",
    "$(I_{n\\times n}- A^{rr} - A^{rs}(I_{m\\times m}-A^{ss})^{-1}A^{sr}) \\Delta p^r = \\Delta d^r\\,,$\n",
    "\n",
    "de donde, si $(I_{n\\times n}- A^{rr} - A^{rs}(I_{m\\times m}-A^{ss})^{-1}A^{sr})$ es inversible, resulta:\n",
    "\n",
    "$\\boxed{\\Delta p^r = (I_{n\\times n}- A^{rr} - A^{rs}(I_{m\\times m}-A^{ss})^{-1}A^{sr})^{-1}\\Delta d^r}\\,.$\n"
   ]
  },
  {
   "cell_type": "markdown",
   "id": "da9a1c0c-0e16-44f8-9b04-70629c6b5c01",
   "metadata": {},
   "source": [
    "---"
   ]
  },
  {
   "cell_type": "markdown",
   "id": "75433226-59cd-4c98-b0de-410644ff33cc",
   "metadata": {},
   "source": [
    "### Consigna 7\n",
    "\n",
    "Esta última consigna del Trabajo Práctico busca aplicar todo lo visto anteriormente a un caso real. Para ello utilizaremos las Matrices de Insumo-Producto generadas por la Comisión Económica para América Latina y el Caribe (CEPAL), un organismo de las Naciones Unidas.\n",
    "\n",
    "* Descargar de [este link](https://www.cepal.org/es/eventos/matrices-insumo-producto-como-herramienta-politicas-comerciales-industriales-america-latina), en la sección Adjuntos, la MIP Latinoamericana 2011 (Preliminar). Este es un archivo de Excel, el cual deben leer con la librería pandas de Python. En la hoja 'LAT_IOT_2011' se encontrarán los flujos entre 40 sectores de 18 países, expresados en millones de dólares. La última columna del archivo, con el título 'Output' es el total producido para ese sector.\n",
    "* Seleccionar los dos países P1 y P2 que les fue asignado al grupo y generar la matriz de Insumo-Producto de estas dos regiones.\n",
    "* Calcular los coeficientes técnicos para cada bloque en sus submatrices intra-regionales e inter-regionales de la $A$ total.\n",
    "* Simular un shock negativo sobre el sector $\\texttt{s05}$ del $10\\%$ del total del sector, y un shock positivo del $3.3\\%$ del total de cada uno de los siguientes sectores: $\\texttt{s06}$, $\\texttt{s07}$ y $\\texttt{s08}$. Todos esos shocks se producen en el país P1\n",
    "* Analizar cómo se modifica la producción cuando se considera el modelo de región simple (eq. 5) y cuando se considera la fórmula completa de las 2 regiones (eq. 6)"
   ]
  },
  {
   "cell_type": "markdown",
   "id": "60377504-8ae8-452c-be20-52ea61793f4d",
   "metadata": {},
   "source": [
    "Los dos paises que nos fueron asignados son $P_1 = \\text{Brasil}$, $P_2 = \\text{Bolivia}$"
   ]
  },
  {
   "cell_type": "code",
   "execution_count": 13,
   "id": "0c59fc0b-bc06-4be8-909a-55e41c088237",
   "metadata": {
    "scrolled": true
   },
   "outputs": [],
   "source": [
    "# Obtenemos la informacion del Excel de la CEPAL\n",
    "data = pd.read_excel(\"./datos.xlsx\",sheet_name=\"LAC_IOT_2011\")"
   ]
  },
  {
   "cell_type": "code",
   "execution_count": 14,
   "id": "df31c067",
   "metadata": {},
   "outputs": [
    {
     "data": {
      "text/html": [
       "<div>\n",
       "<style scoped>\n",
       "    .dataframe tbody tr th:only-of-type {\n",
       "        vertical-align: middle;\n",
       "    }\n",
       "\n",
       "    .dataframe tbody tr th {\n",
       "        vertical-align: top;\n",
       "    }\n",
       "\n",
       "    .dataframe thead th {\n",
       "        text-align: right;\n",
       "    }\n",
       "</style>\n",
       "<table border=\"1\" class=\"dataframe\">\n",
       "  <thead>\n",
       "    <tr style=\"text-align: right;\">\n",
       "      <th></th>\n",
       "      <th>Country_iso3</th>\n",
       "      <th>Nosector</th>\n",
       "      <th>Sector</th>\n",
       "      <th>ARGs1</th>\n",
       "      <th>ARGs2</th>\n",
       "      <th>ARGs3</th>\n",
       "      <th>ARGs4</th>\n",
       "      <th>ARGs5</th>\n",
       "      <th>ARGs6</th>\n",
       "      <th>ARGs7</th>\n",
       "      <th>...</th>\n",
       "      <th>EXP_MDV</th>\n",
       "      <th>EXP_NPL</th>\n",
       "      <th>EXP_TUR</th>\n",
       "      <th>EXP_PAK</th>\n",
       "      <th>EXP_LKA</th>\n",
       "      <th>EXP_CUB</th>\n",
       "      <th>EXP_SUR</th>\n",
       "      <th>EXP_ROW</th>\n",
       "      <th>Adjustment</th>\n",
       "      <th>Output</th>\n",
       "    </tr>\n",
       "  </thead>\n",
       "  <tbody>\n",
       "    <tr>\n",
       "      <th>0</th>\n",
       "      <td>ARG</td>\n",
       "      <td>s01</td>\n",
       "      <td>Agriculture and forestry</td>\n",
       "      <td>9725.566485</td>\n",
       "      <td>18.369597</td>\n",
       "      <td>0.000000</td>\n",
       "      <td>0.000000</td>\n",
       "      <td>11890.682268</td>\n",
       "      <td>2331.532300</td>\n",
       "      <td>594.552280</td>\n",
       "      <td>...</td>\n",
       "      <td>0.000000</td>\n",
       "      <td>0.865281</td>\n",
       "      <td>132.020508</td>\n",
       "      <td>2.572569</td>\n",
       "      <td>0.0</td>\n",
       "      <td>30.970039</td>\n",
       "      <td>0.011896</td>\n",
       "      <td>2403.097412</td>\n",
       "      <td>-1695.114624</td>\n",
       "      <td>64585.080680</td>\n",
       "    </tr>\n",
       "    <tr>\n",
       "      <th>1</th>\n",
       "      <td>ARG</td>\n",
       "      <td>s02</td>\n",
       "      <td>Hunting and fishing</td>\n",
       "      <td>13.820241</td>\n",
       "      <td>0.062689</td>\n",
       "      <td>0.000000</td>\n",
       "      <td>0.000000</td>\n",
       "      <td>1.253285</td>\n",
       "      <td>2.774203</td>\n",
       "      <td>0.445318</td>\n",
       "      <td>...</td>\n",
       "      <td>0.000000</td>\n",
       "      <td>0.000000</td>\n",
       "      <td>0.161072</td>\n",
       "      <td>0.000000</td>\n",
       "      <td>0.0</td>\n",
       "      <td>0.000000</td>\n",
       "      <td>0.000000</td>\n",
       "      <td>0.815166</td>\n",
       "      <td>5.434752</td>\n",
       "      <td>1430.287291</td>\n",
       "    </tr>\n",
       "    <tr>\n",
       "      <th>2</th>\n",
       "      <td>ARG</td>\n",
       "      <td>s03</td>\n",
       "      <td>Mining and quarrying (energy)</td>\n",
       "      <td>6.095956</td>\n",
       "      <td>0.140437</td>\n",
       "      <td>2238.394196</td>\n",
       "      <td>47.503210</td>\n",
       "      <td>0.522333</td>\n",
       "      <td>0.618710</td>\n",
       "      <td>0.165520</td>\n",
       "      <td>...</td>\n",
       "      <td>0.000000</td>\n",
       "      <td>0.000000</td>\n",
       "      <td>0.000000</td>\n",
       "      <td>0.000000</td>\n",
       "      <td>0.0</td>\n",
       "      <td>0.000000</td>\n",
       "      <td>0.000000</td>\n",
       "      <td>0.000000</td>\n",
       "      <td>1847.147827</td>\n",
       "      <td>23964.065765</td>\n",
       "    </tr>\n",
       "    <tr>\n",
       "      <th>3</th>\n",
       "      <td>ARG</td>\n",
       "      <td>s04</td>\n",
       "      <td>Mining and quarrying (non-energy)</td>\n",
       "      <td>0.000000</td>\n",
       "      <td>0.687199</td>\n",
       "      <td>295.194361</td>\n",
       "      <td>470.706336</td>\n",
       "      <td>1.140358</td>\n",
       "      <td>13.123509</td>\n",
       "      <td>1.914597</td>\n",
       "      <td>...</td>\n",
       "      <td>0.000000</td>\n",
       "      <td>0.000000</td>\n",
       "      <td>0.000000</td>\n",
       "      <td>0.000000</td>\n",
       "      <td>0.0</td>\n",
       "      <td>0.019760</td>\n",
       "      <td>0.000000</td>\n",
       "      <td>0.432800</td>\n",
       "      <td>355.133514</td>\n",
       "      <td>7486.322979</td>\n",
       "    </tr>\n",
       "    <tr>\n",
       "      <th>4</th>\n",
       "      <td>ARG</td>\n",
       "      <td>s05</td>\n",
       "      <td>Meat and meat products; dairy products</td>\n",
       "      <td>23.017536</td>\n",
       "      <td>0.009325</td>\n",
       "      <td>0.505593</td>\n",
       "      <td>0.040398</td>\n",
       "      <td>356.730934</td>\n",
       "      <td>88.047795</td>\n",
       "      <td>15.017792</td>\n",
       "      <td>...</td>\n",
       "      <td>0.035902</td>\n",
       "      <td>0.000000</td>\n",
       "      <td>0.131605</td>\n",
       "      <td>0.547536</td>\n",
       "      <td>0.0</td>\n",
       "      <td>3.120524</td>\n",
       "      <td>0.039276</td>\n",
       "      <td>414.973785</td>\n",
       "      <td>-30.369465</td>\n",
       "      <td>17628.831707</td>\n",
       "    </tr>\n",
       "  </tbody>\n",
       "</table>\n",
       "<p>5 rows × 798 columns</p>\n",
       "</div>"
      ],
      "text/plain": [
       "  Country_iso3 Nosector                                  Sector        ARGs1  \\\n",
       "0          ARG      s01                Agriculture and forestry  9725.566485   \n",
       "1          ARG      s02                     Hunting and fishing    13.820241   \n",
       "2          ARG      s03           Mining and quarrying (energy)     6.095956   \n",
       "3          ARG      s04       Mining and quarrying (non-energy)     0.000000   \n",
       "4          ARG      s05  Meat and meat products; dairy products    23.017536   \n",
       "\n",
       "       ARGs2        ARGs3       ARGs4         ARGs5        ARGs6       ARGs7  \\\n",
       "0  18.369597     0.000000    0.000000  11890.682268  2331.532300  594.552280   \n",
       "1   0.062689     0.000000    0.000000      1.253285     2.774203    0.445318   \n",
       "2   0.140437  2238.394196   47.503210      0.522333     0.618710    0.165520   \n",
       "3   0.687199   295.194361  470.706336      1.140358    13.123509    1.914597   \n",
       "4   0.009325     0.505593    0.040398    356.730934    88.047795   15.017792   \n",
       "\n",
       "   ...   EXP_MDV   EXP_NPL     EXP_TUR   EXP_PAK  EXP_LKA    EXP_CUB  \\\n",
       "0  ...  0.000000  0.865281  132.020508  2.572569      0.0  30.970039   \n",
       "1  ...  0.000000  0.000000    0.161072  0.000000      0.0   0.000000   \n",
       "2  ...  0.000000  0.000000    0.000000  0.000000      0.0   0.000000   \n",
       "3  ...  0.000000  0.000000    0.000000  0.000000      0.0   0.019760   \n",
       "4  ...  0.035902  0.000000    0.131605  0.547536      0.0   3.120524   \n",
       "\n",
       "    EXP_SUR      EXP_ROW   Adjustment        Output  \n",
       "0  0.011896  2403.097412 -1695.114624  64585.080680  \n",
       "1  0.000000     0.815166     5.434752   1430.287291  \n",
       "2  0.000000     0.000000  1847.147827  23964.065765  \n",
       "3  0.000000     0.432800   355.133514   7486.322979  \n",
       "4  0.039276   414.973785   -30.369465  17628.831707  \n",
       "\n",
       "[5 rows x 798 columns]"
      ]
     },
     "execution_count": 14,
     "metadata": {},
     "output_type": "execute_result"
    }
   ],
   "source": [
    "# Vemos la pinta que tiene el DataFrame\n",
    "data.head()"
   ]
  },
  {
   "cell_type": "code",
   "execution_count": 15,
   "id": "072daaca-d9c5-4de6-82cc-e15eba002f3e",
   "metadata": {},
   "outputs": [],
   "source": [
    "# Nos quedamos con las filas correspondientes a Brasil y Bolivia\n",
    "data_BRA_BOL = data[data[\"Country_iso3\"].isin([\"BRA\",\"BOL\"])]\n",
    "\n",
    "# Nos quedamos con las columnas correspondientes a Brasil y Bolivia, más la columna Output\n",
    "data_BRA_BOL = data_BRA_BOL[[col for col in data_BRA_BOL.columns if col.startswith(\"BRA\") or col.startswith(\"BOL\") or col==\"Output\"]]\n",
    "\n",
    "# Reseteamos los indices de la tabla por comodidad\n",
    "data_BRA_BOL = data_BRA_BOL.reset_index().drop(columns=\"index\")"
   ]
  },
  {
   "cell_type": "code",
   "execution_count": 16,
   "id": "e61f6980-b112-4161-b521-6d9c3671cf77",
   "metadata": {},
   "outputs": [
    {
     "data": {
      "text/html": [
       "<div>\n",
       "<style scoped>\n",
       "    .dataframe tbody tr th:only-of-type {\n",
       "        vertical-align: middle;\n",
       "    }\n",
       "\n",
       "    .dataframe tbody tr th {\n",
       "        vertical-align: top;\n",
       "    }\n",
       "\n",
       "    .dataframe thead th {\n",
       "        text-align: right;\n",
       "    }\n",
       "</style>\n",
       "<table border=\"1\" class=\"dataframe\">\n",
       "  <thead>\n",
       "    <tr style=\"text-align: right;\">\n",
       "      <th></th>\n",
       "      <th>BRAs1</th>\n",
       "      <th>BRAs2</th>\n",
       "      <th>BRAs3</th>\n",
       "      <th>BRAs4</th>\n",
       "      <th>BRAs5</th>\n",
       "      <th>BRAs6</th>\n",
       "      <th>BRAs7</th>\n",
       "      <th>BRAs8</th>\n",
       "      <th>BRAs9</th>\n",
       "      <th>BRAs10</th>\n",
       "      <th>...</th>\n",
       "      <th>BOLs32</th>\n",
       "      <th>BOLs33</th>\n",
       "      <th>BOLs34</th>\n",
       "      <th>BOLs35</th>\n",
       "      <th>BOLs36</th>\n",
       "      <th>BOLs37</th>\n",
       "      <th>BOLs38</th>\n",
       "      <th>BOLs39</th>\n",
       "      <th>BOLs40</th>\n",
       "      <th>Output</th>\n",
       "    </tr>\n",
       "  </thead>\n",
       "  <tbody>\n",
       "    <tr>\n",
       "      <th>0</th>\n",
       "      <td>8759.594677</td>\n",
       "      <td>183.802943</td>\n",
       "      <td>12.237987</td>\n",
       "      <td>14.005361</td>\n",
       "      <td>29373.005548</td>\n",
       "      <td>9446.762361</td>\n",
       "      <td>15538.555687</td>\n",
       "      <td>23421.869850</td>\n",
       "      <td>1013.335027</td>\n",
       "      <td>2589.431793</td>\n",
       "      <td>...</td>\n",
       "      <td>0.0</td>\n",
       "      <td>0.000000</td>\n",
       "      <td>0.000000</td>\n",
       "      <td>0.000000</td>\n",
       "      <td>0.000000</td>\n",
       "      <td>0.000000</td>\n",
       "      <td>0.000000</td>\n",
       "      <td>0.000000</td>\n",
       "      <td>0.117022</td>\n",
       "      <td>189993.204510</td>\n",
       "    </tr>\n",
       "    <tr>\n",
       "      <th>1</th>\n",
       "      <td>183.802943</td>\n",
       "      <td>3.856745</td>\n",
       "      <td>0.256790</td>\n",
       "      <td>0.293875</td>\n",
       "      <td>616.335010</td>\n",
       "      <td>198.221812</td>\n",
       "      <td>326.046167</td>\n",
       "      <td>491.462079</td>\n",
       "      <td>21.262851</td>\n",
       "      <td>54.334156</td>\n",
       "      <td>...</td>\n",
       "      <td>0.0</td>\n",
       "      <td>0.000000</td>\n",
       "      <td>0.000000</td>\n",
       "      <td>0.000000</td>\n",
       "      <td>0.000000</td>\n",
       "      <td>0.000000</td>\n",
       "      <td>0.000000</td>\n",
       "      <td>0.000000</td>\n",
       "      <td>0.000020</td>\n",
       "      <td>3986.635395</td>\n",
       "    </tr>\n",
       "    <tr>\n",
       "      <th>2</th>\n",
       "      <td>28.515684</td>\n",
       "      <td>0.598346</td>\n",
       "      <td>4234.896096</td>\n",
       "      <td>97.541854</td>\n",
       "      <td>4.406442</td>\n",
       "      <td>149.753630</td>\n",
       "      <td>3.314964</td>\n",
       "      <td>25.225517</td>\n",
       "      <td>38.806077</td>\n",
       "      <td>0.140032</td>\n",
       "      <td>...</td>\n",
       "      <td>0.0</td>\n",
       "      <td>0.000000</td>\n",
       "      <td>0.000000</td>\n",
       "      <td>0.000000</td>\n",
       "      <td>0.000000</td>\n",
       "      <td>0.000000</td>\n",
       "      <td>0.000000</td>\n",
       "      <td>0.000000</td>\n",
       "      <td>0.000000</td>\n",
       "      <td>94890.601838</td>\n",
       "    </tr>\n",
       "    <tr>\n",
       "      <th>3</th>\n",
       "      <td>322.237628</td>\n",
       "      <td>6.761526</td>\n",
       "      <td>226.599170</td>\n",
       "      <td>1072.567732</td>\n",
       "      <td>35.324905</td>\n",
       "      <td>124.788515</td>\n",
       "      <td>10.128543</td>\n",
       "      <td>23.269877</td>\n",
       "      <td>7.144141</td>\n",
       "      <td>0.421785</td>\n",
       "      <td>...</td>\n",
       "      <td>0.0</td>\n",
       "      <td>0.350359</td>\n",
       "      <td>0.000000</td>\n",
       "      <td>0.000000</td>\n",
       "      <td>0.000000</td>\n",
       "      <td>0.000000</td>\n",
       "      <td>0.000000</td>\n",
       "      <td>0.000000</td>\n",
       "      <td>0.000000</td>\n",
       "      <td>61580.195672</td>\n",
       "    </tr>\n",
       "    <tr>\n",
       "      <th>4</th>\n",
       "      <td>745.918167</td>\n",
       "      <td>15.651632</td>\n",
       "      <td>2.192449</td>\n",
       "      <td>1.237900</td>\n",
       "      <td>3554.205906</td>\n",
       "      <td>309.467144</td>\n",
       "      <td>0.527286</td>\n",
       "      <td>337.183320</td>\n",
       "      <td>13.018326</td>\n",
       "      <td>0.280040</td>\n",
       "      <td>...</td>\n",
       "      <td>0.0</td>\n",
       "      <td>0.000000</td>\n",
       "      <td>0.000000</td>\n",
       "      <td>0.000000</td>\n",
       "      <td>0.000000</td>\n",
       "      <td>0.000000</td>\n",
       "      <td>0.000000</td>\n",
       "      <td>0.000000</td>\n",
       "      <td>0.177795</td>\n",
       "      <td>71270.085977</td>\n",
       "    </tr>\n",
       "    <tr>\n",
       "      <th>...</th>\n",
       "      <td>...</td>\n",
       "      <td>...</td>\n",
       "      <td>...</td>\n",
       "      <td>...</td>\n",
       "      <td>...</td>\n",
       "      <td>...</td>\n",
       "      <td>...</td>\n",
       "      <td>...</td>\n",
       "      <td>...</td>\n",
       "      <td>...</td>\n",
       "      <td>...</td>\n",
       "      <td>...</td>\n",
       "      <td>...</td>\n",
       "      <td>...</td>\n",
       "      <td>...</td>\n",
       "      <td>...</td>\n",
       "      <td>...</td>\n",
       "      <td>...</td>\n",
       "      <td>...</td>\n",
       "      <td>...</td>\n",
       "      <td>...</td>\n",
       "    </tr>\n",
       "    <tr>\n",
       "      <th>75</th>\n",
       "      <td>0.002435</td>\n",
       "      <td>0.000051</td>\n",
       "      <td>0.052603</td>\n",
       "      <td>0.029016</td>\n",
       "      <td>0.007812</td>\n",
       "      <td>0.002181</td>\n",
       "      <td>0.008776</td>\n",
       "      <td>0.004920</td>\n",
       "      <td>0.000457</td>\n",
       "      <td>0.000203</td>\n",
       "      <td>...</td>\n",
       "      <td>0.0</td>\n",
       "      <td>0.226415</td>\n",
       "      <td>5.717055</td>\n",
       "      <td>24.469381</td>\n",
       "      <td>54.400170</td>\n",
       "      <td>3.149211</td>\n",
       "      <td>14.357549</td>\n",
       "      <td>17.489919</td>\n",
       "      <td>732.893768</td>\n",
       "      <td>3295.731583</td>\n",
       "    </tr>\n",
       "    <tr>\n",
       "      <th>76</th>\n",
       "      <td>0.000000</td>\n",
       "      <td>0.000000</td>\n",
       "      <td>0.000000</td>\n",
       "      <td>0.000000</td>\n",
       "      <td>0.000000</td>\n",
       "      <td>0.000000</td>\n",
       "      <td>0.000000</td>\n",
       "      <td>0.000000</td>\n",
       "      <td>0.000000</td>\n",
       "      <td>0.000000</td>\n",
       "      <td>...</td>\n",
       "      <td>0.0</td>\n",
       "      <td>0.133575</td>\n",
       "      <td>1.609350</td>\n",
       "      <td>2.451337</td>\n",
       "      <td>12.060684</td>\n",
       "      <td>5.036867</td>\n",
       "      <td>34.156201</td>\n",
       "      <td>18.310726</td>\n",
       "      <td>40.545263</td>\n",
       "      <td>479.652424</td>\n",
       "    </tr>\n",
       "    <tr>\n",
       "      <th>77</th>\n",
       "      <td>1.984713</td>\n",
       "      <td>0.041645</td>\n",
       "      <td>3.211846</td>\n",
       "      <td>1.888511</td>\n",
       "      <td>1.337121</td>\n",
       "      <td>0.978717</td>\n",
       "      <td>1.006287</td>\n",
       "      <td>1.268197</td>\n",
       "      <td>0.785731</td>\n",
       "      <td>0.234341</td>\n",
       "      <td>...</td>\n",
       "      <td>0.0</td>\n",
       "      <td>0.291215</td>\n",
       "      <td>2.174422</td>\n",
       "      <td>14.263532</td>\n",
       "      <td>16.503260</td>\n",
       "      <td>0.588479</td>\n",
       "      <td>14.080296</td>\n",
       "      <td>14.868621</td>\n",
       "      <td>79.471619</td>\n",
       "      <td>470.507738</td>\n",
       "    </tr>\n",
       "    <tr>\n",
       "      <th>78</th>\n",
       "      <td>4.700545</td>\n",
       "      <td>0.098632</td>\n",
       "      <td>76.715836</td>\n",
       "      <td>19.494883</td>\n",
       "      <td>3.024333</td>\n",
       "      <td>6.758605</td>\n",
       "      <td>5.012158</td>\n",
       "      <td>5.196742</td>\n",
       "      <td>4.415811</td>\n",
       "      <td>1.064906</td>\n",
       "      <td>...</td>\n",
       "      <td>0.0</td>\n",
       "      <td>0.383332</td>\n",
       "      <td>5.243341</td>\n",
       "      <td>35.970101</td>\n",
       "      <td>13.572310</td>\n",
       "      <td>102.231517</td>\n",
       "      <td>74.243996</td>\n",
       "      <td>0.317441</td>\n",
       "      <td>277.632044</td>\n",
       "      <td>687.605223</td>\n",
       "    </tr>\n",
       "    <tr>\n",
       "      <th>79</th>\n",
       "      <td>0.000064</td>\n",
       "      <td>0.000001</td>\n",
       "      <td>0.002720</td>\n",
       "      <td>0.001376</td>\n",
       "      <td>0.006947</td>\n",
       "      <td>0.005505</td>\n",
       "      <td>0.001114</td>\n",
       "      <td>0.003899</td>\n",
       "      <td>0.000950</td>\n",
       "      <td>0.000786</td>\n",
       "      <td>...</td>\n",
       "      <td>0.0</td>\n",
       "      <td>0.643394</td>\n",
       "      <td>6.832612</td>\n",
       "      <td>9.120641</td>\n",
       "      <td>260.270848</td>\n",
       "      <td>33.742947</td>\n",
       "      <td>67.266993</td>\n",
       "      <td>31.341814</td>\n",
       "      <td>240.847013</td>\n",
       "      <td>10226.905148</td>\n",
       "    </tr>\n",
       "  </tbody>\n",
       "</table>\n",
       "<p>80 rows × 81 columns</p>\n",
       "</div>"
      ],
      "text/plain": [
       "          BRAs1       BRAs2        BRAs3        BRAs4         BRAs5  \\\n",
       "0   8759.594677  183.802943    12.237987    14.005361  29373.005548   \n",
       "1    183.802943    3.856745     0.256790     0.293875    616.335010   \n",
       "2     28.515684    0.598346  4234.896096    97.541854      4.406442   \n",
       "3    322.237628    6.761526   226.599170  1072.567732     35.324905   \n",
       "4    745.918167   15.651632     2.192449     1.237900   3554.205906   \n",
       "..          ...         ...          ...          ...           ...   \n",
       "75     0.002435    0.000051     0.052603     0.029016      0.007812   \n",
       "76     0.000000    0.000000     0.000000     0.000000      0.000000   \n",
       "77     1.984713    0.041645     3.211846     1.888511      1.337121   \n",
       "78     4.700545    0.098632    76.715836    19.494883      3.024333   \n",
       "79     0.000064    0.000001     0.002720     0.001376      0.006947   \n",
       "\n",
       "          BRAs6         BRAs7         BRAs8        BRAs9       BRAs10  ...  \\\n",
       "0   9446.762361  15538.555687  23421.869850  1013.335027  2589.431793  ...   \n",
       "1    198.221812    326.046167    491.462079    21.262851    54.334156  ...   \n",
       "2    149.753630      3.314964     25.225517    38.806077     0.140032  ...   \n",
       "3    124.788515     10.128543     23.269877     7.144141     0.421785  ...   \n",
       "4    309.467144      0.527286    337.183320    13.018326     0.280040  ...   \n",
       "..          ...           ...           ...          ...          ...  ...   \n",
       "75     0.002181      0.008776      0.004920     0.000457     0.000203  ...   \n",
       "76     0.000000      0.000000      0.000000     0.000000     0.000000  ...   \n",
       "77     0.978717      1.006287      1.268197     0.785731     0.234341  ...   \n",
       "78     6.758605      5.012158      5.196742     4.415811     1.064906  ...   \n",
       "79     0.005505      0.001114      0.003899     0.000950     0.000786  ...   \n",
       "\n",
       "    BOLs32    BOLs33    BOLs34     BOLs35      BOLs36      BOLs37     BOLs38  \\\n",
       "0      0.0  0.000000  0.000000   0.000000    0.000000    0.000000   0.000000   \n",
       "1      0.0  0.000000  0.000000   0.000000    0.000000    0.000000   0.000000   \n",
       "2      0.0  0.000000  0.000000   0.000000    0.000000    0.000000   0.000000   \n",
       "3      0.0  0.350359  0.000000   0.000000    0.000000    0.000000   0.000000   \n",
       "4      0.0  0.000000  0.000000   0.000000    0.000000    0.000000   0.000000   \n",
       "..     ...       ...       ...        ...         ...         ...        ...   \n",
       "75     0.0  0.226415  5.717055  24.469381   54.400170    3.149211  14.357549   \n",
       "76     0.0  0.133575  1.609350   2.451337   12.060684    5.036867  34.156201   \n",
       "77     0.0  0.291215  2.174422  14.263532   16.503260    0.588479  14.080296   \n",
       "78     0.0  0.383332  5.243341  35.970101   13.572310  102.231517  74.243996   \n",
       "79     0.0  0.643394  6.832612   9.120641  260.270848   33.742947  67.266993   \n",
       "\n",
       "       BOLs39      BOLs40         Output  \n",
       "0    0.000000    0.117022  189993.204510  \n",
       "1    0.000000    0.000020    3986.635395  \n",
       "2    0.000000    0.000000   94890.601838  \n",
       "3    0.000000    0.000000   61580.195672  \n",
       "4    0.000000    0.177795   71270.085977  \n",
       "..        ...         ...            ...  \n",
       "75  17.489919  732.893768    3295.731583  \n",
       "76  18.310726   40.545263     479.652424  \n",
       "77  14.868621   79.471619     470.507738  \n",
       "78   0.317441  277.632044     687.605223  \n",
       "79  31.341814  240.847013   10226.905148  \n",
       "\n",
       "[80 rows x 81 columns]"
      ]
     },
     "execution_count": 16,
     "metadata": {},
     "output_type": "execute_result"
    }
   ],
   "source": [
    "# Mostramos el resultado para convencernos de que hicimos bien la matriz\n",
    "data_BRA_BOL"
   ]
  },
  {
   "cell_type": "code",
   "execution_count": 17,
   "id": "668e7382-290b-427c-ba18-f5291b603efe",
   "metadata": {},
   "outputs": [],
   "source": [
    "# Definimos la matriz Z como todas las columnas menos la ultima\n",
    "Z = data_BRA_BOL.drop(columns=\"Output\")\n",
    "\n",
    "# Y a la matriz P como la columna \"Output\" de data_BRA_BOL\n",
    "P = data_BRA_BOL[\"Output\"]"
   ]
  },
  {
   "cell_type": "code",
   "execution_count": 18,
   "id": "b83ffffc-6ecf-4405-a86c-6889768af817",
   "metadata": {},
   "outputs": [
    {
     "data": {
      "text/plain": [
       "True"
      ]
     },
     "execution_count": 18,
     "metadata": {},
     "output_type": "execute_result"
    }
   ],
   "source": [
    "# Nos preguntamos si alguno de los output es 0\n",
    "(P==0).any()"
   ]
  },
  {
   "cell_type": "markdown",
   "id": "3485cfa2-4068-42ef-bf9b-7ba9e4873858",
   "metadata": {},
   "source": [
    "Como observamos que hay valores en la columna $\\texttt{Output}$ (la cual invertiremos) hay valores con ceros, tenemos que tomar alguna decisión sobre ellos, ya que no podemos dividir por cero. Una vez observado que estos valores corresponden a sectores de paises tales que toda sus columnas y filas están repletas de cero, sospechamos que se debe a que son sectores en los cuales los países no producen absolutamente nada (un ejemplo sería Bolivia en el sector 31: `Aircraft and spacecraft`). Por tanto, decidimos cambiar estos valores por $1$, ya que, por la observación anterior, no afecta a la multiplicación."
   ]
  },
  {
   "cell_type": "code",
   "execution_count": 19,
   "id": "5d1c51b2",
   "metadata": {},
   "outputs": [],
   "source": [
    "# Buscamos los indices donde la serie P es igual a 0\n",
    "zeros_id = [id for id in P.index if P.loc[id] == 0] \n",
    "\n",
    "# Los modificamos por 1\n",
    "P.loc[zeros_id] = 1"
   ]
  },
  {
   "cell_type": "code",
   "execution_count": 20,
   "id": "a0a1e05d-d7a8-45e8-873e-630f6b51e203",
   "metadata": {},
   "outputs": [],
   "source": [
    "# Calculamos la matriz de coeficientes técnicos\n",
    "A = Z @ np.linalg.inv(np.diag(P))"
   ]
  },
  {
   "cell_type": "code",
   "execution_count": 21,
   "id": "415cbf85-04b9-4d87-8c8b-54a6cbb3e434",
   "metadata": {},
   "outputs": [
    {
     "data": {
      "text/html": [
       "<div>\n",
       "<style scoped>\n",
       "    .dataframe tbody tr th:only-of-type {\n",
       "        vertical-align: middle;\n",
       "    }\n",
       "\n",
       "    .dataframe tbody tr th {\n",
       "        vertical-align: top;\n",
       "    }\n",
       "\n",
       "    .dataframe thead th {\n",
       "        text-align: right;\n",
       "    }\n",
       "</style>\n",
       "<table border=\"1\" class=\"dataframe\">\n",
       "  <thead>\n",
       "    <tr style=\"text-align: right;\">\n",
       "      <th></th>\n",
       "      <th>0</th>\n",
       "      <th>1</th>\n",
       "      <th>2</th>\n",
       "      <th>3</th>\n",
       "      <th>4</th>\n",
       "      <th>5</th>\n",
       "      <th>6</th>\n",
       "      <th>7</th>\n",
       "      <th>8</th>\n",
       "      <th>9</th>\n",
       "      <th>...</th>\n",
       "      <th>70</th>\n",
       "      <th>71</th>\n",
       "      <th>72</th>\n",
       "      <th>73</th>\n",
       "      <th>74</th>\n",
       "      <th>75</th>\n",
       "      <th>76</th>\n",
       "      <th>77</th>\n",
       "      <th>78</th>\n",
       "      <th>79</th>\n",
       "    </tr>\n",
       "  </thead>\n",
       "  <tbody>\n",
       "    <tr>\n",
       "      <th>0</th>\n",
       "      <td>0.046105</td>\n",
       "      <td>0.046105</td>\n",
       "      <td>0.000129</td>\n",
       "      <td>0.000227</td>\n",
       "      <td>0.412137</td>\n",
       "      <td>0.153720</td>\n",
       "      <td>0.469486</td>\n",
       "      <td>0.354310</td>\n",
       "      <td>0.030031</td>\n",
       "      <td>0.333696</td>\n",
       "      <td>...</td>\n",
       "      <td>0.0</td>\n",
       "      <td>0.0</td>\n",
       "      <td>0.000000</td>\n",
       "      <td>0.0</td>\n",
       "      <td>0.0</td>\n",
       "      <td>0.0</td>\n",
       "      <td>0.0</td>\n",
       "      <td>0.0</td>\n",
       "      <td>0.0</td>\n",
       "      <td>1.144260e-05</td>\n",
       "    </tr>\n",
       "    <tr>\n",
       "      <th>1</th>\n",
       "      <td>0.000967</td>\n",
       "      <td>0.000967</td>\n",
       "      <td>0.000003</td>\n",
       "      <td>0.000005</td>\n",
       "      <td>0.008648</td>\n",
       "      <td>0.003226</td>\n",
       "      <td>0.009851</td>\n",
       "      <td>0.007435</td>\n",
       "      <td>0.000630</td>\n",
       "      <td>0.007002</td>\n",
       "      <td>...</td>\n",
       "      <td>0.0</td>\n",
       "      <td>0.0</td>\n",
       "      <td>0.000000</td>\n",
       "      <td>0.0</td>\n",
       "      <td>0.0</td>\n",
       "      <td>0.0</td>\n",
       "      <td>0.0</td>\n",
       "      <td>0.0</td>\n",
       "      <td>0.0</td>\n",
       "      <td>1.967066e-09</td>\n",
       "    </tr>\n",
       "    <tr>\n",
       "      <th>2</th>\n",
       "      <td>0.000150</td>\n",
       "      <td>0.000150</td>\n",
       "      <td>0.044629</td>\n",
       "      <td>0.001584</td>\n",
       "      <td>0.000062</td>\n",
       "      <td>0.002437</td>\n",
       "      <td>0.000100</td>\n",
       "      <td>0.000382</td>\n",
       "      <td>0.001150</td>\n",
       "      <td>0.000018</td>\n",
       "      <td>...</td>\n",
       "      <td>0.0</td>\n",
       "      <td>0.0</td>\n",
       "      <td>0.000000</td>\n",
       "      <td>0.0</td>\n",
       "      <td>0.0</td>\n",
       "      <td>0.0</td>\n",
       "      <td>0.0</td>\n",
       "      <td>0.0</td>\n",
       "      <td>0.0</td>\n",
       "      <td>0.000000e+00</td>\n",
       "    </tr>\n",
       "    <tr>\n",
       "      <th>3</th>\n",
       "      <td>0.001696</td>\n",
       "      <td>0.001696</td>\n",
       "      <td>0.002388</td>\n",
       "      <td>0.017417</td>\n",
       "      <td>0.000496</td>\n",
       "      <td>0.002031</td>\n",
       "      <td>0.000306</td>\n",
       "      <td>0.000352</td>\n",
       "      <td>0.000212</td>\n",
       "      <td>0.000054</td>\n",
       "      <td>...</td>\n",
       "      <td>0.0</td>\n",
       "      <td>0.0</td>\n",
       "      <td>0.003913</td>\n",
       "      <td>0.0</td>\n",
       "      <td>0.0</td>\n",
       "      <td>0.0</td>\n",
       "      <td>0.0</td>\n",
       "      <td>0.0</td>\n",
       "      <td>0.0</td>\n",
       "      <td>0.000000e+00</td>\n",
       "    </tr>\n",
       "    <tr>\n",
       "      <th>4</th>\n",
       "      <td>0.003926</td>\n",
       "      <td>0.003926</td>\n",
       "      <td>0.000023</td>\n",
       "      <td>0.000020</td>\n",
       "      <td>0.049870</td>\n",
       "      <td>0.005036</td>\n",
       "      <td>0.000016</td>\n",
       "      <td>0.005101</td>\n",
       "      <td>0.000386</td>\n",
       "      <td>0.000036</td>\n",
       "      <td>...</td>\n",
       "      <td>0.0</td>\n",
       "      <td>0.0</td>\n",
       "      <td>0.000000</td>\n",
       "      <td>0.0</td>\n",
       "      <td>0.0</td>\n",
       "      <td>0.0</td>\n",
       "      <td>0.0</td>\n",
       "      <td>0.0</td>\n",
       "      <td>0.0</td>\n",
       "      <td>1.738507e-05</td>\n",
       "    </tr>\n",
       "  </tbody>\n",
       "</table>\n",
       "<p>5 rows × 80 columns</p>\n",
       "</div>"
      ],
      "text/plain": [
       "         0         1         2         3         4         5         6   \\\n",
       "0  0.046105  0.046105  0.000129  0.000227  0.412137  0.153720  0.469486   \n",
       "1  0.000967  0.000967  0.000003  0.000005  0.008648  0.003226  0.009851   \n",
       "2  0.000150  0.000150  0.044629  0.001584  0.000062  0.002437  0.000100   \n",
       "3  0.001696  0.001696  0.002388  0.017417  0.000496  0.002031  0.000306   \n",
       "4  0.003926  0.003926  0.000023  0.000020  0.049870  0.005036  0.000016   \n",
       "\n",
       "         7         8         9   ...   70   71        72   73   74   75   76  \\\n",
       "0  0.354310  0.030031  0.333696  ...  0.0  0.0  0.000000  0.0  0.0  0.0  0.0   \n",
       "1  0.007435  0.000630  0.007002  ...  0.0  0.0  0.000000  0.0  0.0  0.0  0.0   \n",
       "2  0.000382  0.001150  0.000018  ...  0.0  0.0  0.000000  0.0  0.0  0.0  0.0   \n",
       "3  0.000352  0.000212  0.000054  ...  0.0  0.0  0.003913  0.0  0.0  0.0  0.0   \n",
       "4  0.005101  0.000386  0.000036  ...  0.0  0.0  0.000000  0.0  0.0  0.0  0.0   \n",
       "\n",
       "    77   78            79  \n",
       "0  0.0  0.0  1.144260e-05  \n",
       "1  0.0  0.0  1.967066e-09  \n",
       "2  0.0  0.0  0.000000e+00  \n",
       "3  0.0  0.0  0.000000e+00  \n",
       "4  0.0  0.0  1.738507e-05  \n",
       "\n",
       "[5 rows x 80 columns]"
      ]
     },
     "metadata": {},
     "output_type": "display_data"
    }
   ],
   "source": [
    "# Chequeamos que sea cuadrada\n",
    "assert A.shape[0] == A.shape[1]\n",
    "\n",
    "# Observamos que pinta tiene\n",
    "display(A.head())"
   ]
  },
  {
   "cell_type": "markdown",
   "id": "a9e037ba",
   "metadata": {},
   "source": [
    "Ahora, simulamos un shock negativo sobre el sector $\\texttt{s05}$ del $10\\%$ del total del sector, y un shock positivo del $3.3\\%$ del total de cada uno de los siguientes sectores: $\\texttt{s06}$, $\\texttt{s07}$ y $\\texttt{s08}$. Todos esos shocks se producen en Brasil"
   ]
  },
  {
   "cell_type": "code",
   "execution_count": 22,
   "id": "f721427a-7bf2-4d0e-8905-5aaa81354599",
   "metadata": {},
   "outputs": [],
   "source": [
    "# Definimos la inversa de la matriz de Leontief\n",
    "L_inv = np.eye(A.shape[0]) - A\n",
    "\n",
    "# Calculamos la demanda usando d = (I-A) p = L^-1 p\n",
    "d = L_inv @ P"
   ]
  },
  {
   "cell_type": "code",
   "execution_count": 23,
   "id": "3ebe4334",
   "metadata": {},
   "outputs": [],
   "source": [
    "# Para crear d', copiamos d y multiplicamos los valores correspondientes para simular los shocks\n",
    "d_prime = d.copy()\n",
    "\n",
    "# Simulamos el shock negativo del 10% en el sector 5\n",
    "d_prime[4] *= 0.9\n",
    "\n",
    "# Simulamos el shock positivo del 3.3% en los sectores 6, 7 y 8\n",
    "d_prime[[5,6,7]] *= 1.033"
   ]
  },
  {
   "cell_type": "markdown",
   "id": "7f8797ad",
   "metadata": {},
   "source": [
    "Ahora, analicemos cómo se modifica la producción cuando se considera el modelo de región simple (eq. 5) y cuando se considera la fórmula completa de las 2 regiones (eq. 6)"
   ]
  },
  {
   "cell_type": "code",
   "execution_count": 24,
   "id": "feb54106-ab3b-47a1-b2ed-22b9dfbbde55",
   "metadata": {},
   "outputs": [],
   "source": [
    "def obtener_submatriz_regional(pais1,pais2):\n",
    "    \"\"\" Obtiene la submatriz regional A_pais1_pais2 usando la formula A^{rs} = Z^{rs} (P^{s})^{-1}\"\"\"\n",
    "    \"\"\" Precondicion: Nos pasan pais1 y pais2 como corresponden, o sea, usando el formato de 3 letras mayusculas\"\"\"\n",
    "\n",
    "    # Obtenemos la matriz Z_pais1_pais2 quedandonos con las filas y columnas que corresponden\n",
    "    Z_pais1_pais2 = data[data[\"Country_iso3\"]==pais1][[col for col in data.columns if col.startswith(pais2)]]\n",
    "\n",
    "    # Obtenemos la matriz P_pais2 quedandonos con la ultima columna de las filas correspondientes a pais2\n",
    "    P_pais2 = data[data[\"Country_iso3\"]==pais2][\"Output\"].copy()\n",
    "\n",
    "    # Resolvemos el error de los ceros de la misma manera que antes:\n",
    "    # Buscamos los indices donde la serie P es igual a 0\n",
    "    zeros_id = [id for id in P_pais2.index if P_pais2.loc[id] == 0] \n",
    "    \n",
    "    # Los modificamos por 1\n",
    "    P_pais2.loc[zeros_id] = 1\n",
    "\n",
    "    # Calculamos la matriz A usando la formula mencionada\n",
    "    A_pais1_pais2 = Z_pais1_pais2 @ np.linalg.inv(np.diag(P_pais2))\n",
    "\n",
    "    # Reseteamos los indices por comodidad\n",
    "    A_pais1_pais2 = A_pais1_pais2.reset_index().drop(columns=\"index\")\n",
    "\n",
    "    return A_pais1_pais2"
   ]
  },
  {
   "cell_type": "code",
   "execution_count": 25,
   "id": "7a92f119-a2b0-465e-b121-7f96b660e004",
   "metadata": {},
   "outputs": [],
   "source": [
    "# Obtenemos las 4 submatrices regionales usando la funcion previamente definida\n",
    "A_BRA_BRA = obtener_submatriz_regional(\"BRA\",\"BRA\")\n",
    "A_BRA_BOL = obtener_submatriz_regional(\"BRA\",\"BOL\")\n",
    "A_BOL_BRA = obtener_submatriz_regional(\"BOL\",\"BRA\")\n",
    "A_BOL_BOL = obtener_submatriz_regional(\"BOL\",\"BOL\")"
   ]
  },
  {
   "cell_type": "markdown",
   "id": "5a68a08a",
   "metadata": {},
   "source": [
    "Recordemos el modelo de región simple:\n",
    "\n",
    "$∆p^r = (I − A^{rr})^{−1}∆d^r $"
   ]
  },
  {
   "cell_type": "markdown",
   "id": "0034119d-dffc-4cc4-8615-a4ce2ad71c1b",
   "metadata": {},
   "source": [
    "* Simular un shock negativo sobre el sector $\\texttt{s05}$ del $10\\%$ del total del sector, y un shock positivo del $3.3\\%$ del total de cada uno de los siguientes sectores: $\\texttt{s06}$, $\\texttt{s07}$ y $\\texttt{s08}$. Todos esos shocks se producen en el país P1\n",
    "* Analizar cómo se modifica la producción cuando se considera el modelo de región simple (eq. 5) y cuando se considera la fórmula completa de las 2 regiones (eq. 6)"
   ]
  },
  {
   "cell_type": "code",
   "execution_count": 26,
   "id": "3029d579",
   "metadata": {},
   "outputs": [],
   "source": [
    "# Calculamos d' para el pais P1\n",
    "d_prime_BRA = d_prime.iloc[:40]\n",
    "\n",
    "# Esto es d para el pais P1\n",
    "d_BRA = d.iloc[:40]\n",
    "\n",
    "# Esto es Delta d para el pais P1 (Delta d ^r en la formula)\n",
    "delta_d_BRA = d_prime_BRA - d_BRA"
   ]
  },
  {
   "cell_type": "code",
   "execution_count": 27,
   "id": "2495a2de",
   "metadata": {},
   "outputs": [],
   "source": [
    "# Definimos la matriz de Leontief para el modelo de region simple\n",
    "L_BRA_BRA = np.linalg.inv(np.eye(A_BRA_BRA.shape[0]) - A_BRA_BRA)\n",
    "\n",
    "# Obtenemos el cambio en la producción para el modelo de región simple\n",
    "delta_p_BRA_simple = L_BRA_BRA @ delta_d_BRA"
   ]
  },
  {
   "cell_type": "markdown",
   "id": "7aa4360e-5f26-47fc-9580-d927f2c32ca8",
   "metadata": {},
   "source": [
    "Ahora, recordando el modelo con la fórmula completa de las 2 regiones:\n",
    "\n",
    "$\\Delta p^r = (I_{n \\times n}-A^{rr}-A^{rs}(I_{m \\times m}-A^{ss})^{-1}A^{sr})^{-1} \\Delta d^r$"
   ]
  },
  {
   "cell_type": "code",
   "execution_count": 28,
   "id": "2cc598bb-89ef-4bee-8c1f-32b1ec002d94",
   "metadata": {},
   "outputs": [],
   "source": [
    "delta_p_BRA_completa = np.linalg.inv(np.eye(40) - A_BRA_BRA - A_BRA_BOL@np.linalg.inv(np.eye(40)-A_BOL_BOL) @ A_BOL_BRA) @ delta_d_BRA"
   ]
  },
  {
   "cell_type": "code",
   "execution_count": 29,
   "id": "bfd2d609-dd7d-45f8-ae27-30b248ef8ec0",
   "metadata": {},
   "outputs": [
    {
     "data": {
      "text/plain": [
       "array([-1.60604672e+03, -3.36997458e+01, -4.83442581e+01, -5.99414744e+00,\n",
       "       -6.06499588e+03,  1.36230968e+03,  6.80306981e+02,  1.27992121e+03,\n",
       "        1.37232422e-02, -6.19662153e-03, -4.60503019e-01, -1.42546917e+00,\n",
       "       -8.11381716e-01, -7.93677228e-02, -7.97788658e+00, -1.32281733e+02,\n",
       "       -1.35061914e+02, -5.55781923e+01, -1.32380572e+01, -2.96338039e+00,\n",
       "       -6.53624598e+00, -7.00812879e+00,  3.59436888e+00, -2.58447714e+01,\n",
       "       -2.97410622e+00, -5.21110538e-01, -4.15610113e+00, -8.58735634e-01,\n",
       "       -1.80984277e-01, -6.30257254e+00, -1.78635246e-01, -4.63408769e-01,\n",
       "       -1.90653802e+00, -7.72025733e+01, -6.34986907e+00, -1.45925272e+02,\n",
       "       -5.61057203e+00, -1.14869470e+02, -3.72637889e+01, -3.58510273e+02])"
      ]
     },
     "execution_count": 29,
     "metadata": {},
     "output_type": "execute_result"
    }
   ],
   "source": [
    "delta_p_BRA_simple"
   ]
  },
  {
   "cell_type": "code",
   "execution_count": 30,
   "id": "130a4f85-3f65-4d1b-91dc-af908d44c125",
   "metadata": {},
   "outputs": [
    {
     "data": {
      "text/plain": [
       "array([-1.60604722e+03, -3.36997577e+01, -4.83573054e+01, -5.99533133e+00,\n",
       "       -6.06499592e+03,  1.36230963e+03,  6.80306516e+02,  1.27992113e+03,\n",
       "        1.36793030e-02, -6.19709305e-03, -4.60873630e-01, -1.42555359e+00,\n",
       "       -8.11455795e-01, -7.95521553e-02, -7.97912981e+00, -1.32316883e+02,\n",
       "       -1.35062947e+02, -5.55787468e+01, -1.32387475e+01, -2.96551856e+00,\n",
       "       -6.53647159e+00, -7.01624557e+00,  3.59402354e+00, -2.58461495e+01,\n",
       "       -2.97689103e+00, -5.21147945e-01, -4.15667508e+00, -8.58979786e-01,\n",
       "       -1.81075982e-01, -6.30354372e+00, -1.78653856e-01, -4.63689545e-01,\n",
       "       -1.90763451e+00, -7.72034149e+01, -6.35021546e+00, -1.45929832e+02,\n",
       "       -5.61130883e+00, -1.14871024e+02, -3.72677991e+01, -3.58514653e+02])"
      ]
     },
     "execution_count": 30,
     "metadata": {},
     "output_type": "execute_result"
    }
   ],
   "source": [
    "delta_p_BRA_completa"
   ]
  },
  {
   "cell_type": "code",
   "execution_count": 31,
   "id": "84db4e1c-1f7a-4851-b79a-cb6ebc40b17e",
   "metadata": {},
   "outputs": [],
   "source": [
    "import matplotlib.pyplot as plt"
   ]
  },
  {
   "cell_type": "code",
   "execution_count": 32,
   "id": "13a581c7-7105-46fe-ae46-1d13f594c1fc",
   "metadata": {},
   "outputs": [
    {
     "data": {
      "text/plain": [
       "Text(0.5, 0.98, 'Variación de la producción según el sector')"
      ]
     },
     "execution_count": 32,
     "metadata": {},
     "output_type": "execute_result"
    },
    {
     "data": {
      "text/plain": [
       "<Figure size 600x600 with 0 Axes>"
      ]
     },
     "metadata": {},
     "output_type": "display_data"
    },
    {
     "data": {
      "image/png": "[encoded data removed]",
      "text/plain": [
       "<Figure size 1000x500 with 2 Axes>"
      ]
     },
     "metadata": {},
     "output_type": "display_data"
    }
   ],
   "source": [
    "plt.figure(figsize=(6,6))\n",
    "\n",
    "fig, axs = plt.subplots(1,2, figsize=(10,5))\n",
    "\n",
    "axs[0].barh(np.linspace(1,40,40),delta_p_BRA_simple)\n",
    "axs[0].grid()\n",
    "axs[0].set_title(\"Modelo simple\")\n",
    "axs[0].set_xlabel(r\"$\\Delta p$\")\n",
    "axs[0].set_ylabel(\"Sector\")\n",
    "\n",
    "axs[1].barh(np.linspace(1,40,40),delta_p_BRA_completa)\n",
    "axs[1].grid()\n",
    "axs[1].set_title(\"Modelo completo\")\n",
    "axs[1].set_xlabel(r\"$\\Delta p$\")\n",
    "\n",
    "fig.suptitle(\"Variación de la producción según el sector\")"
   ]
  },
  {
   "cell_type": "code",
   "execution_count": 33,
   "id": "594fb2ea-7400-4ac9-baba-36a8380f08de",
   "metadata": {},
   "outputs": [],
   "source": [
    "P_BRA = P[0:40]\n",
    "P_porcentajes_simple = ((P_BRA + delta_p_BRA_simple ) / P_BRA - 1) * 100\n",
    "P_porcentajes_completa = ((P_BRA + delta_p_BRA_completa ) / P_BRA - 1) * 100"
   ]
  },
  {
   "cell_type": "code",
   "execution_count": 34,
   "id": "8dc70eaa-2b7c-4e8f-a03f-c39ef17efb5c",
   "metadata": {},
   "outputs": [
    {
     "data": {
      "text/plain": [
       "Text(0.5, 0.98, 'Variación de la producción según el sector')"
      ]
     },
     "execution_count": 34,
     "metadata": {},
     "output_type": "execute_result"
    },
    {
     "data": {
      "text/plain": [
       "<Figure size 600x600 with 0 Axes>"
      ]
     },
     "metadata": {},
     "output_type": "display_data"
    },
    {
     "data": {
      "image/png": "[encoded data removed]",
      "text/plain": [
       "<Figure size 1000x500 with 2 Axes>"
      ]
     },
     "metadata": {},
     "output_type": "display_data"
    }
   ],
   "source": [
    "plt.figure(figsize=(6,6))\n",
    "\n",
    "fig, axs = plt.subplots(1,2, figsize=(10,5))\n",
    "\n",
    "axs[0].barh(np.linspace(1,40,40),P_porcentajes_simple)\n",
    "axs[0].grid()\n",
    "axs[0].set_title(\"Modelo simple\")\n",
    "axs[0].set_xlabel(\"Porcentaje de variación en la producción (%)\")\n",
    "axs[0].set_ylabel(\"Sector\")\n",
    "\n",
    "axs[1].barh(np.linspace(1,40,40),P_porcentajes_completa)\n",
    "axs[1].grid()\n",
    "axs[1].set_title(\"Modelo completo\")\n",
    "axs[1].set_xlabel(\"Porcentaje de variación en la producción (%)\")\n",
    "\n",
    "fig.suptitle(\"Variación de la producción según el sector\")"
   ]
  },
  {
   "cell_type": "code",
   "execution_count": 35,
   "id": "79cdab5f-69ca-4fd7-b6a8-3dd6991286c3",
   "metadata": {},
   "outputs": [
    {
     "data": {
      "image/png": "[encoded data removed]",
      "text/plain": [
       "<Figure size 500x500 with 1 Axes>"
      ]
     },
     "metadata": {},
     "output_type": "display_data"
    }
   ],
   "source": [
    "plt.figure(figsize=(5,5))\n",
    "plt.bar(np.linspace(1,40,40),delta_p_BRA_simple - delta_p_BRA_completa)\n",
    "plt.grid()\n",
    "plt.xlabel(\"Sector\")\n",
    "plt.ylabel(\"Diferencia entre modelo simple y completo\")\n",
    "plt.show()"
   ]
  },
  {
   "cell_type": "code",
   "execution_count": 38,
   "id": "ea65d9a6",
   "metadata": {},
   "outputs": [
    {
     "data": {
      "text/plain": [
       "0     1.883872e+05\n",
       "1     3.952936e+03\n",
       "2     9.484226e+04\n",
       "3     6.157420e+04\n",
       "4     6.520509e+04\n",
       "5     6.281680e+04\n",
       "6     3.377725e+04\n",
       "7     6.738547e+04\n",
       "8     3.374327e+04\n",
       "9     7.759851e+03\n",
       "10    2.559871e+04\n",
       "11    3.219306e+04\n",
       "12    1.934043e+04\n",
       "13    1.316921e+04\n",
       "14    5.938544e+04\n",
       "15    1.502241e+05\n",
       "16    7.636953e+04\n",
       "17    4.619109e+04\n",
       "18    2.535883e+04\n",
       "19    4.733887e+04\n",
       "20    4.289948e+04\n",
       "21    5.693577e+04\n",
       "22    2.373973e+04\n",
       "23    4.787335e+04\n",
       "24    6.403438e+04\n",
       "25    1.356105e+04\n",
       "26    3.711947e+04\n",
       "27    2.234719e+04\n",
       "28    4.709820e+03\n",
       "29    1.498401e+05\n",
       "30    6.169361e+03\n",
       "31    1.600432e+04\n",
       "32    3.303990e+04\n",
       "33    9.738263e+04\n",
       "34    3.011469e+05\n",
       "35    2.026291e+05\n",
       "36    1.095438e+05\n",
       "37    2.358958e+05\n",
       "38    3.301104e+05\n",
       "39    1.495140e+06\n",
       "Name: Output, dtype: float64"
      ]
     },
     "execution_count": 38,
     "metadata": {},
     "output_type": "execute_result"
    }
   ],
   "source": [
    "# vamos a comparar los outputs pre-shock y post-shock \n",
    "\n",
    "P_post = P_BRA + delta_p_BRA_simple\n",
    "P_post"
   ]
  },
  {
   "cell_type": "code",
   "execution_count": 43,
   "id": "a91eacdb",
   "metadata": {},
   "outputs": [
    {
     "data": {
      "text/plain": [
       "Text(0.5, 0.98, 'Variación de la producción según el sector')"
      ]
     },
     "execution_count": 43,
     "metadata": {},
     "output_type": "execute_result"
    },
    {
     "data": {
      "text/plain": [
       "<Figure size 600x600 with 0 Axes>"
      ]
     },
     "metadata": {},
     "output_type": "display_data"
    },
    {
     "data": {
      "image/png": "[encoded data removed]",
      "text/plain": [
       "<Figure size 1000x500 with 2 Axes>"
      ]
     },
     "metadata": {},
     "output_type": "display_data"
    }
   ],
   "source": [
    "plt.figure(figsize=(6,6))\n",
    "\n",
    "fig, axs = plt.subplots(1,2, figsize=(10,5))\n",
    "\n",
    "axs[0].barh(np.linspace(1,40,40),P_BRA)\n",
    "axs[0].grid()\n",
    "axs[0].set_title(\"Preshock\")\n",
    "axs[0].set_ylabel(\"Sector\")\n",
    "\n",
    "axs[1].barh(np.linspace(1,40,40),P_post)\n",
    "axs[1].grid()\n",
    "axs[1].set_title(\"Postshock\")\n",
    "axs[1].set_xlabel(\"\")\n",
    "fig.suptitle(\"Produccion total\")"
   ]
  },
  {
   "cell_type": "markdown",
   "id": "6f1a6f11-586e-4164-85f0-14dd70fd4353",
   "metadata": {},
   "source": [
    "#### Conclusiones"
   ]
  },
  {
   "cell_type": "markdown",
   "id": "dbcc9883-9c0b-4d22-9f74-1dca1403b9b2",
   "metadata": {},
   "source": [
    "Como podemos ver en los gráficos, los sectores más afectados por el shock en la demanda externa, son los que reciben dicho shock. Luego el otro sector que se ve más afectado es el sector 1, que podríamos explicarlo diciendo que es el que tiene mayor relación con los sectores modificados.\n",
    " También vemos que la diferencia entre el modelo simple y el modelo completo es casi nula, sin embargo, existe una diferencia que se puede apreciar en el último gráfico."
   ]
  },
  {
   "cell_type": "code",
   "execution_count": null,
   "id": "8e0aa25d",
   "metadata": {},
   "outputs": [],
   "source": []
  }
 ],
 "metadata": {
  "kernelspec": {
   "display_name": "Python 3 (ipykernel)",
   "language": "python",
   "name": "python3"
  },
  "language_info": {
   "codemirror_mode": {
    "name": "ipython",
    "version": 3
   },
   "file_extension": ".py",
   "mimetype": "text/x-python",
   "name": "python",
   "nbconvert_exporter": "python",
   "pygments_lexer": "ipython3",
   "version": "3.11.2"
  }
 },
 "nbformat": 4,
 "nbformat_minor": 5
}
