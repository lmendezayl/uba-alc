{
 "cells": [
  {
   "cell_type": "code",
   "execution_count": 1,
   "id": "a2712c3a",
   "metadata": {},
   "outputs": [],
   "source": [
    "import numpy as np\n",
    "import scipy as sp"
   ]
  },
  {
   "cell_type": "markdown",
   "id": "ceb9d72f",
   "metadata": {},
   "source": [
    "#### Ejercicio 2.18\n",
    "\n",
    "Se quiere estimar la norma 2 de una matriz $A \\in \\mathbb{R}^{n \\times n}$ como el máximo del valor $ \\frac{\\|Ax\\|_2}{\\|x\\|_2} $ entre varios vectores $ x \\in \\mathbb{R}^3 $ no nulos generados al azar.\n",
    "\n",
    "##### Instrucciones\n",
    "\n",
    "Hacer un programa que reciba una matriz $A$ y luego:\n",
    "\n",
    "   - Genere los primeros 100 términos de la siguiente sucesión:\n",
    "   <p style=\"text-align:center;\">   $s_1 = 0$ , $s_{k+1} = \\max\\{s_k, \\frac{\\|Ax_k\\|_2}{\\|x_k\\|_2}\\} $ </p>\n",
    "   \n",
    "   donde los $ x_k \\in \\mathbb{R}^3 $ son vectores no nulos generados al azar en la bola unitaria: $B = \\{x : \\|x\\|_2 \\leq 1\\} $.\n",
    "   - Grafique la sucesión calculada, junto con el valor exacto de la norma 2 de la matriz.\n",
    "\n",
    "###### Notas\n",
    "\n",
    "- La norma 2 puede calcularse con el comando `np.linalg.norm`.\n",
    "- Los vectores generados al azar con `np.random.random` tienen coordenadas en el intervalo [0,1].\n",
    "\n"
   ]
  },
  {
   "cell_type": "code",
   "execution_count": 2,
   "id": "60a17941",
   "metadata": {},
   "outputs": [
    {
     "ename": "SyntaxError",
     "evalue": "incomplete input (148268886.py, line 9)",
     "output_type": "error",
     "traceback": [
      "\u001b[0;36m  Cell \u001b[0;32mIn [2], line 9\u001b[0;36m\u001b[0m\n\u001b[0;31m    \u001b[0m\n\u001b[0m    ^\u001b[0m\n\u001b[0;31mSyntaxError\u001b[0m\u001b[0;31m:\u001b[0m incomplete input\n"
     ]
    }
   ],
   "source": [
    "## calcular |A| = max {||Ax||/||x||} con x no nulo. \n",
    "\n",
    "def estimacionNorma2(A: List[List[float]]) -> float:\n",
    "    s_k = 0;\n",
    "    for k in range(100):\n",
    "        vector = np.random.random(3)\n",
    "        norma2_Ax = np.linalg.norm\n",
    "        \n",
    "    \n",
    "        "
   ]
  },
  {
   "cell_type": "code",
   "execution_count": 5,
   "id": "56b63b05",
   "metadata": {},
   "outputs": [
    {
     "data": {
      "text/plain": [
       "array([0.98781058, 0.00502174, 0.38488897])"
      ]
     },
     "execution_count": 5,
     "metadata": {},
     "output_type": "execute_result"
    }
   ],
   "source": [
    "np.random.random(3)"
   ]
  },
  {
   "cell_type": "markdown",
   "id": "b5f900dc",
   "metadata": {},
   "source": [
    "#### Ejercicio 3.3\n",
    "\n",
    "Escribir funciones de <code>Python</code> que calculen la solucion de un sistema:\n",
    "\n",
    "a) $Ly = b$, siendo $L$ triangular inferior.\n",
    "\n",
    "b) $Ux = y$, siendo $U$ triangular superior."
   ]
  },
  {
   "cell_type": "code",
   "execution_count": null,
   "id": "df478009",
   "metadata": {},
   "outputs": [],
   "source": []
  },
  {
   "cell_type": "markdown",
   "id": "8fe4b5da",
   "metadata": {},
   "source": [
    "#### Ejercicio 3.4\n",
    "\n",
    "Escribir funciones de <code>Python</code> que realicen las siguientes tareas: \n",
    "\n",
    "(a) Calcular la descomposicion $LU$ de una matriz dada $A$, asumiendo que no es necesario realizar pivoteos. \n",
    "\n",
    "(b) Resolver un sistema $Ax = b$, utilizando la funcion del ıtem anterior y las del ejercicio 3.3. Aplicar esta funcion para resolver el ıtem (c) del ejercicio 2"
   ]
  },
  {
   "cell_type": "code",
   "execution_count": null,
   "id": "5b4fe6f8",
   "metadata": {},
   "outputs": [],
   "source": []
  },
  {
   "cell_type": "markdown",
   "id": "b54d01cd",
   "metadata": {},
   "source": [
    "#### Ejercicio 3.20\n",
    "\n",
    "Sea $u \\in \\mathbb{R}^n$ un vector tal que $\\|u\\|_2 = 1$ y sea $H = I - 2uu^T$ un reflector ortogonal de Householder.\n",
    "\n",
    "##### Parte (a)\n",
    "\n",
    "Siendo $u = e_i$, calcular explícitamente $H$ e interpretar geométricamente $Hx$ para cualquier $x \\in \\mathbb{R}^n$.\n",
    "\n",
    "##### Parte (b)\n",
    "\n",
    "Sea $x$ tal que $x = w + v$, con $w$ ortogonal a $u$ y $v$ múltiplo de $u$. Mostrar que \n",
    "\n",
    "<p style=\"text-align:center;\">$Hx = w - v$\n",
    "</p>\n",
    "\n",
    "\n",
    "e interpretar geométricamente en $\\mathbb{R}^n$.\n"
   ]
  },
  {
   "cell_type": "code",
   "execution_count": null,
   "id": "042f83d5",
   "metadata": {},
   "outputs": [],
   "source": []
  },
  {
   "cell_type": "markdown",
   "id": "8a35870a",
   "metadata": {},
   "source": [
    "#### Ejercicio 3.21\n",
    "\n",
    "Implementar dos programas que calculen la descomposición QR de una matriz:\n",
    "\n",
    "(a) Aplicando de manera directa el método de ortonormalización de Gram-Schmidt.\n",
    "\n",
    "(b) Utilizando transformaciones de Householder.\n",
    "\n",
    "Generar algunas matrices aleatorias y comparar las descomposiciones arrojadas por estos programas con las dadas por el comando `np.linalg.qr`. ¿Qué se observa?"
   ]
  },
  {
   "cell_type": "code",
   "execution_count": null,
   "id": "d649db2c",
   "metadata": {},
   "outputs": [],
   "source": []
  },
  {
   "cell_type": "markdown",
   "id": "f335deda",
   "metadata": {},
   "source": [
    "\n",
    "#### Ejercicio 3.22\n",
    "\n",
    "Implementar un programa que resuelva un sistema $Ax = b$ a partir de la descomposición QR de $A$.\n"
   ]
  },
  {
   "cell_type": "code",
   "execution_count": null,
   "id": "986ecaf8",
   "metadata": {},
   "outputs": [],
   "source": []
  },
  {
   "cell_type": "markdown",
   "id": "7f6a6c38",
   "metadata": {},
   "source": [
    "#### Ejercicio 4.15\n",
    "\n",
    "Un sujeto en evidente estado de ebriedad oscila entre su casa y el bar, separados por $n$ pasos. En cada instante de tiempo da un paso hacia adelante (acercándose a su casa), con probabilidad $p$; y hacia atrás (acercándose nuevamente al bar), con probabilidad $1-p$. Si llega a alguno de los dos extremos, se queda allí y no vuelve a moverse. \n",
    "\n",
    " (a) Sin hacer ninguna cuenta, mostrar que el proceso admite al menos dos estados límite linealmente independientes entre sí. Implementar un programa que reciba como input la distancia entre la casa y el bar ($n$) y la probabilidad $p$, y devuelva la matriz de transición del proceso. Verificar que el resultado sea correcto corriendo lo para $n=5$ y $p=0.5$.\n",
    "\n",
    " (b) Para $n=20$, tomar $p=0.5$ y $v_0$ el vector que corresponde a ubicar al sujeto en cualquiera de los puntos intermedios del trayecto con igual probabilidad. Realizar una simulación del proceso hasta que se estabilice. ¿Cuál es el estado límite? ¿Cómo se interpreta?\n",
    "\n",
    " (c) Repetir la simulación tomando como vector inicial $v_0=e_2$ (el segundo canónico). Interpretar el resultado.\n",
    "\n",
    " (d) Repetir las simulaciones con $p=0.8$. ¿Qué se observa?\n",
    "\n",
    " (e) Explicar los resultados de todas las simulaciones a partir del análisis de los autovalores y autovectores de la matriz.\n"
   ]
  },
  {
   "cell_type": "code",
   "execution_count": null,
   "id": "8a4695ab",
   "metadata": {},
   "outputs": [],
   "source": []
  },
  {
   "cell_type": "markdown",
   "id": "076257f4",
   "metadata": {},
   "source": [
    "#### Ejercicio 4.18\n",
    "\n",
    "Implementar el método de la potencia tal como está descrito en el ejercicio anterior, para calcular el autovalor de máximo módulo, $conv(0)$ aleatorio y $\\phi$ una funcional lineal cualquiera.\n",
    "\n",
    "Aplicarlo para calcular el autovalor de máximo módulo de la siguiente matriz:\n",
    "\n",
    "$$\n",
    "A = \\begin{pmatrix}\n",
    "1 & 2 & 1 \\\\\n",
    "1 & -1 & 1 \\\\\n",
    "1 & 5 & 1\n",
    "\\end{pmatrix}\n",
    "$$\n",
    "\n",
    "Comparar con el resultado arrojado por `np.linalg.eig`.\n"
   ]
  },
  {
   "cell_type": "code",
   "execution_count": null,
   "id": "6550082e",
   "metadata": {},
   "outputs": [],
   "source": []
  },
  {
   "cell_type": "markdown",
   "id": "c74b296a",
   "metadata": {},
   "source": [
    "#### Ejercicio 4.21\n",
    "\n",
    "##### Método de la potencia inversa\n",
    "\n",
    "1. Mostrar que si $\\lambda$ es un autovalor de $A$, y $A$ es inversible, entonces $\\lambda^{-1}$ es un autovalor de $A^{-1}$.\n",
    "\n",
    "2. En el método de la potencia inversa, se define $v^{(k+1)}$ tal que $Av^{(k+1)} = v^{(k)}$. \n",
    "\n",
    "   Mostrar que esta modificación del método de la potencia permite calcular el autovalor de menor módulo de $A$.\n",
    "\n",
    "3. Implementar el método de la potencia inversa.\n"
   ]
  },
  {
   "cell_type": "code",
   "execution_count": null,
   "id": "55c4f4c8",
   "metadata": {},
   "outputs": [],
   "source": []
  },
  {
   "cell_type": "markdown",
   "id": "781f0787",
   "metadata": {},
   "source": [
    "#### Ejercicio 4.23\n",
    "\n",
    "Asumiendo que $ A $ admite un único autovalor de módulo máximo:\n",
    "\n",
    " (a)\n",
    "Usando que $ \\|A\\|_2 = \\rho(A^TA) $ para una $ A $ cualquiera y $ \\|A\\|_2 = \\rho(A) $ si $ A $ es simétrica, adapta el método de la potencia para calcular la norma 2 de $ A $\n",
    "\n",
    " (b)\n",
    "Escribir un programa que, utilizando el ítem anterior y el método de la potencia inversa, calcule $ \\text{cond}_2(A) $.\n",
    "\n",
    " (c)\n",
    "Calcular $ \\text{cond}_2(A) $ de las matrices del Hilbert para $ n = 10, 100, 500, 1000 $. La matriz de Hilbert de tamaño $ n $ puede calcularse como:\n",
    "\n",
    "```python\n",
    "import scipy as sp\n",
    "# Definir n\n",
    "H = sp.linalg.hilbert(n)\n",
    "```"
   ]
  },
  {
   "cell_type": "code",
   "execution_count": null,
   "id": "49040a6b",
   "metadata": {},
   "outputs": [],
   "source": []
  },
  {
   "cell_type": "markdown",
   "id": "25a7df41",
   "metadata": {},
   "source": [
    "#### Ejercicio 5.19\n",
    "\n",
    "Descargar la imagen `quijote.jpg` y utilizar el comando `imread` de la librería `matplotlib.pyplot` para cargarla. Imprimir el resultado. Mostrar la imagen utilizando el comando `imshow`. Probablemente, la gama de colores por defecto no sea en blanco y negro. Ejecutar el siguiente comando:\n",
    "\n",
    "```python\n",
    "from matplotlib import cm\n",
    "```\n",
    "y volver a correr `imshow`, esta vez con la opción `cmap=\"gray\"`. (Buscando \"matplotlib colormaps\" se encuentran fácilmente distintos mapas de colores para graficar)."
   ]
  },
  {
   "cell_type": "code",
   "execution_count": null,
   "id": "69e5a378",
   "metadata": {},
   "outputs": [],
   "source": []
  },
  {
   "cell_type": "markdown",
   "id": "9adf0b7e",
   "metadata": {},
   "source": [
    "#### Ejercicio 5.20\n",
    "\n",
    "Escribir un programa que reciba como input una matriz $A \\in \\mathbb{R}^{n \\times m}$ y un entero positivo $r$ y:\n",
    "\n",
    "- Calcule la descomposición en valores singulares de $A$, utilizando el comando `np.linalg.svd` o el comando `scipy.linalg.svd`. Ambos comandos devuelven $U \\in \\mathbb{R}^{n \\times n}$, $V \\in \\mathbb{R}^{m \\times m}$ y $s \\in \\mathbb{R}^{\\min(n,m)}$, de manera tal que $A = U \\, \\text{diag}(s) \\, V$.\n",
    "  \n",
    "- Devuelva: una tupla con la dimensión original de la matriz $A$ $(n, m)$, las matrices $\\tilde{U} \\in \\mathbb{R}^{n \\times r}$ y $\\tilde{V} \\in \\mathbb{R}^{r \\times m}$ que surgen de eliminar de $U$ y $V$ los vectores singulares con índice mayor a $r$, y el vector de valores singulares $\\tilde{s} \\in \\mathbb{R}^r$, también recortado.\n"
   ]
  },
  {
   "cell_type": "code",
   "execution_count": null,
   "id": "1c18d447",
   "metadata": {},
   "outputs": [],
   "source": []
  },
  {
   "cell_type": "markdown",
   "id": "6b02c81c",
   "metadata": {},
   "source": [
    "#### Ejercicio 5.21\n",
    "\n",
    "Escribir un programa que reconstruya la matriz a partir del output del programa anterior. Es decir, que:\n",
    "\n",
    "- Reciba el tamaño $(n,m)$, las matrices $\\tilde{U}$ y $\\tilde{V}$, y el vector $\\tilde{s}$.\n",
    "  \n",
    "- Amplíe las matrices con ceros, generando $U' \\in \\mathbb{R}^{n \\times n}$, $V' \\in \\mathbb{R}^{m \\times m}$; y coloque $\\tilde{s}$ en la diagonal de una matriz $\\Sigma' \\in \\mathbb{R}^{n \\times m}$.\n",
    "  \n",
    "- Devuelva la matriz $B = U' \\Sigma' V'$ (que es la mejor aproximación a $A$ entre las matrices de rango $r$).\n"
   ]
  },
  {
   "cell_type": "code",
   "execution_count": null,
   "id": "3adbf619",
   "metadata": {},
   "outputs": [],
   "source": []
  },
  {
   "cell_type": "markdown",
   "id": "363bba39",
   "metadata": {},
   "source": [
    "#### Ejercicio 5.22\n",
    "\n",
    "Aplicar los programas anteriores a la imagen del ejemplo (y eventualmente a otras). El output del primer programa corresponderá a la imagen comprimida; sólo se almacenan: una tupla con dos números $((n,m))$, $r$ vectores de longitud $n$, $r$ vectores de longitud $m$ y $r$ valores singulares. El segundo programa abre los datos comprimidos y muestra la imagen.\n",
    "\n",
    "Naturalmente, la compresión implica la pérdida de información (y por lo tanto, de calidad en la imagen). Experimentar con distintos valores de $r$. Se puede estudiar la calidad de la aproximación a través del error relativo:\n",
    "\n",
    "$$\n",
    "\\frac{\\|A - A_r\\|_2}{\\|A\\|_2} = \\frac{\\sigma_{r+1}}{\\sigma_1}.\n",
    "$$\n",
    "\n",
    "Para analizar la proporción de compresión se puede calcular el cociente entre la cantidad de datos almacenados por la matriz original $(mn)$ y los datos almacenados por las matrices comprimidas $((m+n)r + r + 2)$. Calcular el error relativo de aproximación y la proporción de compresión para distintos valores de $r$."
   ]
  },
  {
   "cell_type": "code",
   "execution_count": null,
   "id": "ae4b282c",
   "metadata": {},
   "outputs": [],
   "source": []
  },
  {
   "cell_type": "markdown",
   "id": "68e76c90",
   "metadata": {},
   "source": [
    "#### Ejercicio 5.23\n",
    "\n",
    "La misma idea puede utilizarse con imágenes en color. Al leer una imagen color, `imread` genera un array $A$ tridimensional, de $n \\times m \\times 3$. $A[:,:,0]$, $A[:,:,1]$ y $A[:,:,2]$ son los canales RGB (en ese orden) de la imagen.\n",
    "\n",
    "Experimentar con alguna imagen color realizando la compresión en cada una de las componentes (puede ser con parámetros $r_i$ distintos) y reensamblando el array tridimensional.\n"
   ]
  },
  {
   "cell_type": "code",
   "execution_count": null,
   "id": "b0b34150",
   "metadata": {},
   "outputs": [],
   "source": []
  }
 ],
 "metadata": {
  "kernelspec": {
   "display_name": "Python 3 (ipykernel)",
   "language": "python",
   "name": "python3"
  },
  "language_info": {
   "codemirror_mode": {
    "name": "ipython",
    "version": 3
   },
   "file_extension": ".py",
   "mimetype": "text/x-python",
   "name": "python",
   "nbconvert_exporter": "python",
   "pygments_lexer": "ipython3",
   "version": "3.11.2"
  }
 },
 "nbformat": 4,
 "nbformat_minor": 5
}
