{
 "cells": [
  {
   "cell_type": "markdown",
   "metadata": {},
   "source": [
    "#### Ejercicio 5.19\n",
    "\n",
    "Descargar la imagen `quijote.jpg` y utilizar el comando `imread` de la librería `matplotlib.pyplot` para cargarla. Imprimir el resultado. Mostrar la imagen utilizando el comando `imshow`. Probablemente, la gama de colores por defecto no sea en blanco y negro. Ejecutar el siguiente comando:\n",
    "\n",
    "```python\n",
    "from matplotlib import cm\n",
    "```\n",
    "y volver a correr `imshow`, esta vez con la opción `cmap=\"gray\"`. (Buscando \"matplotlib colormaps\" se encuentran fácilmente distintos mapas de colores para graficar)."
   ]
  },
  {
   "cell_type": "code",
   "execution_count": null,
   "metadata": {},
   "outputs": [],
   "source": []
  },
  {
   "cell_type": "markdown",
   "metadata": {},
   "source": [
    "#### Ejercicio 5.20\n",
    "\n",
    "Escribir un programa que reciba como input una matriz $A \\in \\mathbb{R}^{n \\times m}$ y un entero positivo $r$ y:\n",
    "\n",
    "- Calcule la descomposición en valores singulares de $A$, utilizando el comando `np.linalg.svd` o el comando `scipy.linalg.svd`. Ambos comandos devuelven $U \\in \\mathbb{R}^{n \\times n}$, $V \\in \\mathbb{R}^{m \\times m}$ y $s \\in \\mathbb{R}^{\\min(n,m)}$, de manera tal que $A = U \\, \\text{diag}(s) \\, V$.\n",
    "  \n",
    "- Devuelva: una tupla con la dimensión original de la matriz $A$ $(n, m)$, las matrices $\\tilde{U} \\in \\mathbb{R}^{n \\times r}$ y $\\tilde{V} \\in \\mathbb{R}^{r \\times m}$ que surgen de eliminar de $U$ y $V$ los vectores singulares con índice mayor a $r$, y el vector de valores singulares $\\tilde{s} \\in \\mathbb{R}^r$, también recortado.\n"
   ]
  },
  {
   "cell_type": "code",
   "execution_count": null,
   "metadata": {},
   "outputs": [],
   "source": []
  },
  {
   "cell_type": "markdown",
   "metadata": {},
   "source": [
    "#### Ejercicio 5.21\n",
    "\n",
    "Escribir un programa que reconstruya la matriz a partir del output del programa anterior. Es decir, que:\n",
    "\n",
    "- Reciba el tamaño $(n,m)$, las matrices $\\tilde{U}$ y $\\tilde{V}$, y el vector $\\tilde{s}$.\n",
    "  \n",
    "- Amplíe las matrices con ceros, generando $U' \\in \\mathbb{R}^{n \\times n}$, $V' \\in \\mathbb{R}^{m \\times m}$; y coloque $\\tilde{s}$ en la diagonal de una matriz $\\Sigma' \\in \\mathbb{R}^{n \\times m}$.\n",
    "  \n",
    "- Devuelva la matriz $B = U' \\Sigma' V'$ (que es la mejor aproximación a $A$ entre las matrices de rango $r$).\n"
   ]
  },
  {
   "cell_type": "code",
   "execution_count": null,
   "metadata": {},
   "outputs": [],
   "source": []
  },
  {
   "cell_type": "markdown",
   "metadata": {},
   "source": [
    "#### Ejercicio 5.22\n",
    "\n",
    "Aplicar los programas anteriores a la imagen del ejemplo (y eventualmente a otras). El output del primer programa corresponderá a la imagen comprimida; sólo se almacenan: una tupla con dos números $((n,m))$, $r$ vectores de longitud $n$, $r$ vectores de longitud $m$ y $r$ valores singulares. El segundo programa abre los datos comprimidos y muestra la imagen.\n",
    "\n",
    "Naturalmente, la compresión implica la pérdida de información (y por lo tanto, de calidad en la imagen). Experimentar con distintos valores de $r$. Se puede estudiar la calidad de la aproximación a través del error relativo:\n",
    "\n",
    "$$\n",
    "\\frac{\\|A - A_r\\|_2}{\\|A\\|_2} = \\frac{\\sigma_{r+1}}{\\sigma_1}.\n",
    "$$\n",
    "\n",
    "Para analizar la proporción de compresión se puede calcular el cociente entre la cantidad de datos almacenados por la matriz original $(mn)$ y los datos almacenados por las matrices comprimidas $((m+n)r + r + 2)$. Calcular el error relativo de aproximación y la proporción de compresión para distintos valores de $r$."
   ]
  },
  {
   "cell_type": "code",
   "execution_count": null,
   "metadata": {},
   "outputs": [],
   "source": []
  },
  {
   "cell_type": "markdown",
   "metadata": {},
   "source": [
    "#### Ejercicio 5.23\n",
    "\n",
    "La misma idea puede utilizarse con imágenes en color. Al leer una imagen color, `imread` genera un array $A$ tridimensional, de $n \\times m \\times 3$. $A[:,:,0]$, $A[:,:,1]$ y $A[:,:,2]$ son los canales RGB (en ese orden) de la imagen.\n",
    "\n",
    "Experimentar con alguna imagen color realizando la compresión en cada una de las componentes (puede ser con parámetros $r_i$ distintos) y reensamblando el array tridimensional.\n"
   ]
  },
  {
   "cell_type": "code",
   "execution_count": null,
   "metadata": {},
   "outputs": [],
   "source": []
  }
 ],
 "metadata": {
  "language_info": {
   "name": "python"
  }
 },
 "nbformat": 4,
 "nbformat_minor": 2
}
