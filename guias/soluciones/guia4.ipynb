{
 "cells": [
  {
   "cell_type": "markdown",
   "metadata": {},
   "source": [
    "#### Ejercicio 4.15\n",
    "\n",
    "Un sujeto en evidente estado de ebriedad oscila entre su casa y el bar, separados por $n$ pasos. En cada instante de tiempo da un paso hacia adelante (acercándose a su casa), con probabilidad $p$; y hacia atrás (acercándose nuevamente al bar), con probabilidad $1-p$. Si llega a alguno de los dos extremos, se queda allí y no vuelve a moverse. \n",
    "\n",
    " (a) Sin hacer ninguna cuenta, mostrar que el proceso admite al menos dos estados límite linealmente independientes entre sí. Implementar un programa que reciba como input la distancia entre la casa y el bar ($n$) y la probabilidad $p$, y devuelva la matriz de transición del proceso. Verificar que el resultado sea correcto corriendo lo para $n=5$ y $p=0.5$.\n",
    "\n",
    " (b) Para $n=20$, tomar $p=0.5$ y $v_0$ el vector que corresponde a ubicar al sujeto en cualquiera de los puntos intermedios del trayecto con igual probabilidad. Realizar una simulación del proceso hasta que se estabilice. ¿Cuál es el estado límite? ¿Cómo se interpreta?\n",
    "\n",
    " (c) Repetir la simulación tomando como vector inicial $v_0=e_2$ (el segundo canónico). Interpretar el resultado.\n",
    "\n",
    " (d) Repetir las simulaciones con $p=0.8$. ¿Qué se observa?\n",
    "\n",
    " (e) Explicar los resultados de todas las simulaciones a partir del análisis de los autovalores y autovectores de la matriz.\n"
   ]
  },
  {
   "cell_type": "code",
   "execution_count": null,
   "metadata": {},
   "outputs": [],
   "source": [
    "def devolverMatrizTransicion(distancia: int, p: float):\n",
    "    #zzz\n",
    "    return"
   ]
  },
  {
   "cell_type": "markdown",
   "metadata": {},
   "source": [
    "#### Ejercicio 4.18\n",
    "\n",
    "Implementar el método de la potencia tal como está descrito en el ejercicio anterior, para calcular el autovalor de máximo módulo, con $v^{(0)}$ aleatorio y $\\phi$ una funcional lineal cualquiera.\n",
    "\n",
    "Aplicarlo para calcular el autovalor de máximo módulo de la siguiente matriz:\n",
    "\n",
    "$$\n",
    "A = \\begin{pmatrix}\n",
    "1 & 2 & 1 \\\\\n",
    "1 & -1 & 1 \\\\\n",
    "1 & 5 & 1\n",
    "\\end{pmatrix}\n",
    "$$\n",
    "\n",
    "Comparar con el resultado arrojado por `np.linalg.eig`.\n"
   ]
  },
  {
   "cell_type": "code",
   "execution_count": null,
   "metadata": {},
   "outputs": [],
   "source": [
    "def metodoPotencia(A, n):\n",
    "    # Golub & Van Loan, 7.3.1, Matrix Multiplications\n",
    "    q = np.ones(3)\n",
    "    for i in range(n):\n",
    "        z = A @ q\n",
    "        q = z/np.linalg.norm(z)\n",
    "        autoval_max = q.T @ A @ q\n",
    "    return autoval_max\n",
    "\n",
    "A = np.array([[1,2,1],[1,-1,1],[1,5,1]])\n",
    "print(\"Maximo autovalor hallado con metodo de la potencia: \", metodoPotencia(A, 1000))\n",
    "print(\"Maximo autovalor real: \", np.linalg.eig(A)[0][0])\n",
    "print(\"Error relativo: \",round((metodoPotencia(A, 1000) - np.linalg.eig(A)[0][0])/100, 17))"
   ]
  },
  {
   "cell_type": "markdown",
   "metadata": {},
   "source": [
    "Es impresionante el error tan chico que nos da el metodo de la potencia tan solo iterando 1000 veces.\n",
    "\n",
    "Muy destacable, y ni siquiera es el shifted inverse."
   ]
  },
  {
   "cell_type": "markdown",
   "metadata": {},
   "source": [
    "#### Ejercicio 4.21\n",
    "\n",
    "##### Método de la potencia inversa\n",
    "\n",
    "1. Mostrar que si $\\lambda$ es un autovalor de $A$, y $A$ es inversible, entonces $\\lambda^{-1}$ es un autovalor de $A^{-1}$.\n",
    "\n",
    "2. En el método de la potencia inversa, se define $v^{(k+1)}$ tal que $Av^{(k+1)} = v^{(k)}$. \n",
    "\n",
    "   Mostrar que esta modificación del método de la potencia permite calcular el autovalor de menor módulo de $A$.\n",
    "\n",
    "3. Implementar el método de la potencia inversa.\n"
   ]
  },
  {
   "cell_type": "code",
   "execution_count": null,
   "metadata": {},
   "outputs": [],
   "source": [
    "def metodoPotenciaInversa(A, n=1000):\n",
    "    # Golub & Van Loan, P7.3.9, Matrix Computations p.374\n",
    "        \n",
    "    # genero vector unitario\n",
    "    q = np.random.rand(A.shape[0])\n",
    "    q /= np.linalg.norm(q)\n",
    "    \n",
    "    for i in range(n):\n",
    "        z = np.linalg.solve(A, q)\n",
    "        q = z / np.linalg.norm(z)\n",
    "    \n",
    "    # calcular el autovalor minimo\n",
    "    autoval_min =(q.T @ A @ q) / (q.T @ q)\n",
    "    return autoval_min"
   ]
  },
  {
   "cell_type": "markdown",
   "metadata": {},
   "source": [
    "#### Ejercicio 4.23\n",
    "\n",
    "Asumiendo que $ A $ admite un único autovalor de módulo máximo:\n",
    "\n",
    " (a)\n",
    "Usando que $ \\|A\\|_2 = \\rho(A^TA) $ para una $ A $ cualquiera y $ \\|A\\|_2 = \\rho(A) $ si $ A $ es simétrica, adapta el método de la potencia para calcular la norma 2 de $ A $\n",
    "\n",
    " (b)\n",
    "Escribir un programa que, utilizando el ítem anterior y el método de la potencia inversa, calcule $ \\text{cond}_2(A) $.\n",
    "\n",
    " (c)\n",
    "Calcular $ \\text{cond}_2(A) $ de las matrices del Hilbert para $ n = 10, 100, 500, 1000 $. La matriz de Hilbert de tamaño $ n $ puede calcularse como:\n",
    "\n",
    "```python\n",
    "import scipy as sp\n",
    "# Definir n\n",
    "H = sp.linalg.hilbert(n)\n",
    "```"
   ]
  },
  {
   "cell_type": "code",
   "execution_count": null,
   "metadata": {},
   "outputs": [],
   "source": [
    "def norma2(A, n=1000):\n",
    "    \n",
    "    if((A == A.T).all()):\n",
    "        q = np.ones(A.shape[0])\n",
    "        for i in range(n):\n",
    "            z = A @ q\n",
    "            q = z/np.linalg.norm(z)\n",
    "        p = q.T @ A @ q\n",
    "        return p\n",
    "    else:\n",
    "        A = A.T @ A\n",
    "        q = np.ones(A.shape[0])\n",
    "        for i in range(n):\n",
    "            z = A @ q\n",
    "            q = z/np.linalg.norm(z)\n",
    "        p = q.T @ A @ q\n",
    "    return p"
   ]
  },
  {
   "cell_type": "code",
   "execution_count": null,
   "metadata": {},
   "outputs": [],
   "source": [
    "def calcularCond2(A):\n",
    "    res = norma2(A) * metodoPotenciaInversa(A)\n",
    "    return res"
   ]
  },
  {
   "cell_type": "code",
   "execution_count": null,
   "metadata": {},
   "outputs": [],
   "source": [
    "h_10 = sp.linalg.hilbert(10)\n",
    "h_100 = sp.linalg.hilbert(100)\n",
    "h_500 = sp.linalg.hilbert(500)\n",
    "h_1000 = sp.linalg.hilbert(1000)\n",
    "\n",
    "print(calcularCond2(h_10))\n",
    "print(calcularCond2(h_100))\n",
    "print(calcularCond2(h_500))\n",
    "print(calcularCond2(h_1000))\n"
   ]
  },
  {
   "cell_type": "markdown",
   "metadata": {},
   "source": [
    "Did we just calculate... números de condición negativos?...\n",
    "\n",
    "Obvio que no, simplemente en algún lado se debio de haber roto Python y mi pobre compu de 32 bits.\n",
    "Bueno, es eso o esto es material para algún paper."
   ]
  }
 ],
 "metadata": {
  "language_info": {
   "name": "python"
  }
 },
 "nbformat": 4,
 "nbformat_minor": 2
}
