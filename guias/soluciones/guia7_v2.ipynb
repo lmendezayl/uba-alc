{
 "cells": [
  {
   "cell_type": "code",
   "execution_count": 1,
   "id": "61875498",
   "metadata": {},
   "outputs": [],
   "source": [
    "import numpy as np\n",
    "import scipy as sp\n",
    "import matplotlib.pyplot as plt"
   ]
  },
  {
   "cell_type": "markdown",
   "id": "3f5bbefd",
   "metadata": {},
   "source": [
    "### Ejercicio 1. "
   ]
  },
  {
   "cell_type": "markdown",
   "id": "b72554b1",
   "metadata": {},
   "source": [
    "Escribir un programa que implemente el metodo de Jacobi y otro que implemente el metodo de Gauss-Seidel para la resolucion de un sistema lineal Ax = b, con las siguientes\n",
    "condiciones:\n",
    "* que finalice si el metodo se estaciona,\n",
    "* que finalice con una advertencia si se excede cierto tope de iteraciones.\n",
    "\n",
    "Sugerencia: investigar los comandos np. tril , np. triu y np.diag."
   ]
  },
  {
   "cell_type": "code",
   "execution_count": 10,
   "id": "dab4464c",
   "metadata": {},
   "outputs": [],
   "source": [
    "def jacobi(A):\n",
    "    D = np.diag(A)\n",
    "    L = np.tril(A)\n",
    "    U = np.triu(A)\n",
    "    \n",
    "    return D, L, U\n",
    "\n",
    "A = np.arange(1,10).reshape(3,3)\n",
    "D, L, U = jacobi(A)"
   ]
  },
  {
   "cell_type": "code",
   "execution_count": 11,
   "id": "e07a5ae0",
   "metadata": {},
   "outputs": [
    {
     "data": {
      "text/plain": [
       "array([1, 5, 9])"
      ]
     },
     "execution_count": 11,
     "metadata": {},
     "output_type": "execute_result"
    }
   ],
   "source": [
    "D"
   ]
  },
  {
   "cell_type": "code",
   "execution_count": 6,
   "id": "cad59121",
   "metadata": {},
   "outputs": [
    {
     "data": {
      "text/plain": [
       "array([[1, 0, 0],\n",
       "       [4, 5, 0],\n",
       "       [7, 8, 9]])"
      ]
     },
     "execution_count": 6,
     "metadata": {},
     "output_type": "execute_result"
    }
   ],
   "source": [
    "L"
   ]
  },
  {
   "cell_type": "code",
   "execution_count": 7,
   "id": "281a6b79",
   "metadata": {},
   "outputs": [
    {
     "data": {
      "text/plain": [
       "array([[1, 2, 3],\n",
       "       [0, 5, 6],\n",
       "       [0, 0, 9]])"
      ]
     },
     "execution_count": 7,
     "metadata": {},
     "output_type": "execute_result"
    }
   ],
   "source": [
    "U"
   ]
  },
  {
   "cell_type": "code",
   "execution_count": null,
   "id": "aa96b7bc",
   "metadata": {},
   "outputs": [],
   "source": []
  }
 ],
 "metadata": {
  "kernelspec": {
   "display_name": "Python 3 (ipykernel)",
   "language": "python",
   "name": "python3"
  },
  "language_info": {
   "codemirror_mode": {
    "name": "ipython",
    "version": 3
   },
   "file_extension": ".py",
   "mimetype": "text/x-python",
   "name": "python",
   "nbconvert_exporter": "python",
   "pygments_lexer": "ipython3",
   "version": "3.10.4"
  }
 },
 "nbformat": 4,
 "nbformat_minor": 5
}
