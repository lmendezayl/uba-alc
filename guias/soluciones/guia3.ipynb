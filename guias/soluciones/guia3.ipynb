{
 "cells": [
  {
   "cell_type": "code",
   "execution_count": 1,
   "metadata": {},
   "outputs": [],
   "source": [
    "import numpy as np\n",
    "import scipy as sp\n",
    "import matplotlib.pyplot as plt"
   ]
  },
  {
   "cell_type": "markdown",
   "metadata": {},
   "source": [
    "#### Ejercicio 3.3\n",
    "\n",
    "Escribir funciones de <code>Python</code> que calculen la solucion de un sistema:\n",
    "\n",
    "a) $Ly = b$, siendo $L$ triangular inferior.\n",
    "\n",
    "b) $Ux = y$, siendo $U$ triangular superior."
   ]
  },
  {
   "cell_type": "code",
   "execution_count": 2,
   "metadata": {},
   "outputs": [
    {
     "name": "stdout",
     "output_type": "stream",
     "text": [
      "[1.    0.5   0.125]\n",
      "[1.    0.25  0.125]\n"
     ]
    }
   ],
   "source": [
    "def solveLy(L: np.array, b:np.array) -> np.array:\n",
    "    n = L.shape[0]\n",
    "    y = np.zeros(n)\n",
    "    for i in range(n):\n",
    "        sum_ = 0 \n",
    "        for j in range(i):\n",
    "            sum_ += L[i][j]*y[j]\n",
    "        y[i] = (b[i] - sum_ ) / L[i][i]\n",
    "    return y\n",
    "\n",
    "def solveUx(U: np.array, x:np.array) -> np.array:\n",
    "    n = U.shape[0]\n",
    "    x = np.zeros(n)\n",
    "    for i in range(n):\n",
    "        sum_ = 0 \n",
    "        for j in range(i+1):\n",
    "            sum_ += U[i][j] * x[j]\n",
    "        x[i] = (y[i] - sum_)/U[i][i]\n",
    "    return x\n",
    "    \n",
    "L = np.array([[1,0,0],\n",
    "              [1,2,0],\n",
    "              [2,1,4]])\n",
    "U = np.array([[1,2,5],\n",
    "              [0,2,1],\n",
    "              [0,0,1]])\n",
    "b = np.array([1,2,3])\n",
    "\n",
    "print(y := solveLy(L, b.T))\n",
    "print(x := solveUx(U, y.T))"
   ]
  },
  {
   "cell_type": "markdown",
   "metadata": {},
   "source": [
    "#### Ejercicio 3.4\n",
    "\n",
    "Escribir funciones de <code>Python</code> que realicen las siguientes tareas: \n",
    "\n",
    "(a) Calcular la descomposicion $LU$ de una matriz dada $A$, asumiendo que no es necesario realizar pivoteos. \n",
    "\n",
    "(b) Resolver un sistema $Ax = b$, utilizando la funcion del ıtem anterior y las del ejercicio 3.3. Aplicar esta funcion para resolver el ıtem (c) del ejercicio 2"
   ]
  },
  {
   "cell_type": "code",
   "execution_count": 3,
   "metadata": {},
   "outputs": [],
   "source": [
    "import numpy as np\n",
    "import scipy as sp\n",
    "import matplotlib.pyplot as plt"
   ]
  },
  {
   "cell_type": "code",
   "execution_count": 4,
   "metadata": {},
   "outputs": [],
   "source": [
    "def doolittleLU(A: np.array) -> tuple[np.array, np.array]:\n",
    "    n = len(A)\n",
    "    L = np.zeros((n,n))\n",
    "    U = np.zeros((n,n))\n",
    "    \n",
    "    for i in range(n):\n",
    "        for j in range(i,n):\n",
    "            U[i,j] = A [i,j] - sum(L[i,k] * U[k,j] for k in range(i))\n",
    "        for j in range(i, n):\n",
    "            if (i == j):\n",
    "                L[i,i] = 1\n",
    "            else:\n",
    "                L[j,i] = (A[j,i] - sum(L[j,k] * U[k,i] for k in range(i))) / U[i,i]\n",
    "    return L, U\n",
    "\n"
   ]
  },
  {
   "cell_type": "code",
   "execution_count": 5,
   "metadata": {},
   "outputs": [
    {
     "name": "stdout",
     "output_type": "stream",
     "text": [
      "[[ 1.          0.          0.        ]\n",
      " [ 2.          1.          0.        ]\n",
      " [ 1.66666667 -1.33333333  1.        ]]\n",
      "[[ 3.          2.          3.        ]\n",
      " [ 0.         -2.         -4.        ]\n",
      " [ 0.          0.         -7.33333333]]\n"
     ]
    }
   ],
   "source": [
    "A = np.array([[3,2,3],[6,2,2],[5,6,3]])\n",
    "L, U = doolittleLU(np.array([[3,2,3],[6,2,2],[5,6,3]]))\n",
    "         \n",
    "print(L)\n",
    "print(U)\n"
   ]
  },
  {
   "cell_type": "code",
   "execution_count": 6,
   "metadata": {},
   "outputs": [
    {
     "data": {
      "text/plain": [
       "array([[ True,  True,  True],\n",
       "       [ True,  True,  True],\n",
       "       [ True,  True,  True]])"
      ]
     },
     "execution_count": 6,
     "metadata": {},
     "output_type": "execute_result"
    }
   ],
   "source": [
    "L@U == A"
   ]
  },
  {
   "cell_type": "markdown",
   "metadata": {},
   "source": [
    "Felicidad :thumbsup:"
   ]
  },
  {
   "cell_type": "markdown",
   "metadata": {},
   "source": [
    "#### Ejercicio 3.20\n",
    "\n",
    "Sea $u \\in \\mathbb{R}^n$ un vector tal que $\\|u\\|_2 = 1$ y sea $H = I - 2uu^T$ un reflector ortogonal de Householder.\n",
    "\n",
    "##### Parte (a)\n",
    "\n",
    "Siendo $u = e_i$, calcular explícitamente $H$ e interpretar geométricamente $Hx$ para cualquier $x \\in \\mathbb{R}^n$.\n",
    "\n",
    "##### Parte (b)\n",
    "\n",
    "Sea $x$ tal que $x = w + v$, con $w$ ortogonal a $u$ y $v$ múltiplo de $u$. Mostrar que \n",
    "\n",
    "$$Hx = w - v$$\n",
    "\n",
    "\n",
    "e interpretar geométricamente en $\\mathbb{R}^n$.\n"
   ]
  },
  {
   "cell_type": "code",
   "execution_count": 7,
   "metadata": {},
   "outputs": [],
   "source": [
    "# Parte (a) del enunciado\n",
    "def householder(dim: int, pos: int):\n",
    "    n = dim\n",
    "    I = np.identity(n)\n",
    "    # fix solidisimo (n) -> ((n,1))\n",
    "    u = np.zeros((n,1)) \n",
    "    u[pos] = 1\n",
    "    H = I - (2 * u @ u.T)\n",
    "    return H"
   ]
  },
  {
   "cell_type": "code",
   "execution_count": 8,
   "metadata": {},
   "outputs": [
    {
     "data": {
      "text/plain": [
       "array([[ 1.,  0.,  0.,  0.],\n",
       "       [ 0., -1.,  0.,  0.],\n",
       "       [ 0.,  0.,  1.,  0.],\n",
       "       [ 0.,  0.,  0.,  1.]])"
      ]
     },
     "execution_count": 8,
     "metadata": {},
     "output_type": "execute_result"
    }
   ],
   "source": [
    "householder(4,1)"
   ]
  },
  {
   "cell_type": "markdown",
   "metadata": {},
   "source": [
    "Funciona!! Ahora sigamos con la parte (a) del enunciado, que es interpretarlo graficamente en $R^2$ porque no quiero usar $R^3$.\n"
   ]
  },
  {
   "cell_type": "code",
   "execution_count": 9,
   "metadata": {},
   "outputs": [],
   "source": [
    "def graficarHouseholder(dim: int, pos:int, x: np.array):\n",
    "    H = householder(dim, pos)\n",
    "    reflexionHH = H @ x\n",
    "    plt.figure(figsize=(6,6))\n",
    "    \n",
    "    # plotear el vector original\n",
    "    plt.quiver(0, 0, x[0], x[1], angles='xy', scale_units='xy', scale=1, color='b', label='Vector original $x$')\n",
    "    \n",
    "    # plotear el vector reflejado\n",
    "    plt.quiver(0, 0, reflexionHH[0], reflexionHH[1], angles='xy', scale_units='xy', scale=1, color='r', label='Vector reflejado $Hx$')\n",
    "    \n",
    "    # plotear la linea de reflexion\n",
    "    if dim == 2:\n",
    "        # tuvo que cookear gpt pues no le se al quiver\n",
    "        u = np.zeros(dim)\n",
    "        u[i] = 1        \n",
    "        line_vector = np.array([-u[1], u[0]])  \n",
    "        line_length = 2\n",
    "        plt.quiver(0, 0, line_vector[0], line_vector[1], angles='xy', scale_units='xy', scale=line_length, color='g', label='Linea de reflexion')\n",
    "\n",
    "    plt.xlim(-2, 2)\n",
    "    plt.ylim(-2, 2)\n",
    "    plt.grid()\n",
    "    plt.title('Interpretacion geometrica de la reflexion de Householder')\n",
    "    plt.legend()\n",
    "    plt.show()"
   ]
  },
  {
   "cell_type": "code",
   "execution_count": 10,
   "metadata": {},
   "outputs": [
    {
     "ename": "NameError",
     "evalue": "name 'i' is not defined",
     "output_type": "error",
     "traceback": [
      "\u001b[0;31m---------------------------------------------------------------------------\u001b[0m",
      "\u001b[0;31mNameError\u001b[0m                                 Traceback (most recent call last)",
      "Cell \u001b[0;32mIn [10], line 3\u001b[0m\n\u001b[1;32m      1\u001b[0m x \u001b[38;5;241m=\u001b[39m np\u001b[38;5;241m.\u001b[39mrandom\u001b[38;5;241m.\u001b[39mrand(\u001b[38;5;241m2\u001b[39m)\n\u001b[1;32m      2\u001b[0m x \u001b[38;5;241m/\u001b[39m\u001b[38;5;241m=\u001b[39m np\u001b[38;5;241m.\u001b[39mlinalg\u001b[38;5;241m.\u001b[39mnorm(x)\n\u001b[0;32m----> 3\u001b[0m \u001b[43mgraficarHouseholder\u001b[49m\u001b[43m(\u001b[49m\u001b[38;5;241;43m2\u001b[39;49m\u001b[43m,\u001b[49m\u001b[43m \u001b[49m\u001b[38;5;241;43m0\u001b[39;49m\u001b[43m,\u001b[49m\u001b[43m \u001b[49m\u001b[43mx\u001b[49m\u001b[43m)\u001b[49m\n\u001b[1;32m      4\u001b[0m graficarHouseholder(\u001b[38;5;241m2\u001b[39m, \u001b[38;5;241m1\u001b[39m, x)\n",
      "Cell \u001b[0;32mIn [9], line 16\u001b[0m, in \u001b[0;36mgraficarHouseholder\u001b[0;34m(dim, pos, x)\u001b[0m\n\u001b[1;32m     13\u001b[0m \u001b[38;5;28;01mif\u001b[39;00m dim \u001b[38;5;241m==\u001b[39m \u001b[38;5;241m2\u001b[39m:\n\u001b[1;32m     14\u001b[0m     \u001b[38;5;66;03m# tuvo que cookear gpt pues no le se al quiver\u001b[39;00m\n\u001b[1;32m     15\u001b[0m     u \u001b[38;5;241m=\u001b[39m np\u001b[38;5;241m.\u001b[39mzeros(dim)\n\u001b[0;32m---> 16\u001b[0m     u[\u001b[43mi\u001b[49m] \u001b[38;5;241m=\u001b[39m \u001b[38;5;241m1\u001b[39m        \n\u001b[1;32m     17\u001b[0m     line_vector \u001b[38;5;241m=\u001b[39m np\u001b[38;5;241m.\u001b[39marray([\u001b[38;5;241m-\u001b[39mu[\u001b[38;5;241m1\u001b[39m], u[\u001b[38;5;241m0\u001b[39m]])  \n\u001b[1;32m     18\u001b[0m     line_length \u001b[38;5;241m=\u001b[39m \u001b[38;5;241m2\u001b[39m\n",
      "\u001b[0;31mNameError\u001b[0m: name 'i' is not defined"
     ]
    },
    {
     "data": {
      "image/png": "[encoded data removed]",
      "text/plain": [
       "<Figure size 600x600 with 1 Axes>"
      ]
     },
     "metadata": {},
     "output_type": "display_data"
    }
   ],
   "source": [
    "x = np.random.rand(2)\n",
    "x /= np.linalg.norm(x)\n",
    "graficarHouseholder(2, 0, x)\n",
    "graficarHouseholder(2, 1, x)"
   ]
  },
  {
   "cell_type": "markdown",
   "metadata": {},
   "source": [
    "No termino de entender muy bien que vendria a ser el vector rojo, si bien entiendo que esta reflejado por el vector vrde, no entiendo que hace xd.\n"
   ]
  },
  {
   "cell_type": "markdown",
   "metadata": {},
   "source": [
    "#### Ejercicio 3.21\n",
    "\n",
    "Implementar dos programas que calculen la descomposición QR de una matriz:\n",
    "\n",
    "(a) Aplicando de manera directa el método de ortonormalización de Gram-Schmidt.\n",
    "\n",
    "(b) Utilizando transformaciones de Householder.\n",
    "\n",
    "Generar algunas matrices aleatorias y comparar las descomposiciones arrojadas por estos programas con las dadas por el comando `np.linalg.qr`. ¿Qué se observa?"
   ]
  },
  {
   "cell_type": "code",
   "execution_count": null,
   "metadata": {},
   "outputs": [],
   "source": []
  },
  {
   "cell_type": "markdown",
   "metadata": {},
   "source": [
    "\n",
    "#### Ejercicio 3.22\n",
    "\n",
    "Implementar un programa que resuelva un sistema $Ax = b$ a partir de la descomposición QR de $A$.\n"
   ]
  },
  {
   "cell_type": "code",
   "execution_count": null,
   "metadata": {},
   "outputs": [],
   "source": []
  }
 ],
 "metadata": {
  "kernelspec": {
   "display_name": "Python 3",
   "language": "python",
   "name": "python3"
  },
  "language_info": {
   "codemirror_mode": {
    "name": "ipython",
    "version": 3
   },
   "file_extension": ".py",
   "mimetype": "text/x-python",
   "name": "python",
   "nbconvert_exporter": "python",
   "pygments_lexer": "ipython3",
   "version": "3.11.2"
  }
 },
 "nbformat": 4,
 "nbformat_minor": 2
}
